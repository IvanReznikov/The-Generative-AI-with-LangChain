{
  "cells": [
    {
      "cell_type": "markdown",
      "source": [
        "# LangChain to Query PDF files: Task\n",
        "\n",
        "This notebook demonstrates the task to use `langchain` to create a workflow for retrieving and pdf text data"
      ],
      "metadata": {
        "id": "pl3lPKjYZTSa"
      }
    },
    {
      "cell_type": "markdown",
      "metadata": {
        "id": "btwnQT4xrZy2"
      },
      "source": [
        "[![Open In Colab](https://colab.research.google.com/assets/colab-badge.svg)](https://colab.research.google.com/drive/1y57vZOOZMQFoJ_H7hog02Kq-dNCGpSBP?usp=sharing)"
      ]
    },
    {
      "cell_type": "markdown",
      "source": [
        "## Installation\n",
        "\n",
        "First, we need to install the necessary packages:"
      ],
      "metadata": {
        "id": "yogFOWmKZrTM"
      }
    },
    {
      "cell_type": "code",
      "execution_count": null,
      "metadata": {
        "id": "Q3nixiI2rZy9",
        "colab": {
          "base_uri": "https://localhost:8080/"
        },
        "outputId": "09c4918c-c4a2-4b3c-b43c-f7ec6bb581c3"
      },
      "outputs": [
        {
          "output_type": "stream",
          "name": "stdout",
          "text": [
            "\u001b[2K     \u001b[90m━━━━━━━━━━━━━━━━━━━━━━━━━━━━━━━━━━━━━━━━\u001b[0m \u001b[32m973.5/973.5 kB\u001b[0m \u001b[31m10.9 MB/s\u001b[0m eta \u001b[36m0:00:00\u001b[0m\n",
            "\u001b[2K     \u001b[90m━━━━━━━━━━━━━━━━━━━━━━━━━━━━━━━━━━━━━━━━\u001b[0m \u001b[32m324.1/324.1 kB\u001b[0m \u001b[31m24.0 MB/s\u001b[0m eta \u001b[36m0:00:00\u001b[0m\n",
            "\u001b[2K     \u001b[90m━━━━━━━━━━━━━━━━━━━━━━━━━━━━━━━━━━━━━━━━\u001b[0m \u001b[32m2.1/2.1 MB\u001b[0m \u001b[31m54.9 MB/s\u001b[0m eta \u001b[36m0:00:00\u001b[0m\n",
            "\u001b[2K     \u001b[90m━━━━━━━━━━━━━━━━━━━━━━━━━━━━━━━━━━━━━━━━\u001b[0m \u001b[32m224.7/224.7 kB\u001b[0m \u001b[31m22.4 MB/s\u001b[0m eta \u001b[36m0:00:00\u001b[0m\n",
            "\u001b[2K     \u001b[90m━━━━━━━━━━━━━━━━━━━━━━━━━━━━━━━━━━━━━━━━\u001b[0m \u001b[32m1.1/1.1 MB\u001b[0m \u001b[31m19.3 MB/s\u001b[0m eta \u001b[36m0:00:00\u001b[0m\n",
            "\u001b[2K     \u001b[90m━━━━━━━━━━━━━━━━━━━━━━━━━━━━━━━━━━━━━━━━\u001b[0m \u001b[32m409.6/409.6 kB\u001b[0m \u001b[31m20.1 MB/s\u001b[0m eta \u001b[36m0:00:00\u001b[0m\n",
            "\u001b[2K     \u001b[90m━━━━━━━━━━━━━━━━━━━━━━━━━━━━━━━━━━━━━━━━\u001b[0m \u001b[32m270.2/270.2 kB\u001b[0m \u001b[31m17.8 MB/s\u001b[0m eta \u001b[36m0:00:00\u001b[0m\n",
            "\u001b[2K     \u001b[90m━━━━━━━━━━━━━━━━━━━━━━━━━━━━━━━━━━━━━━━━\u001b[0m \u001b[32m525.5/525.5 kB\u001b[0m \u001b[31m33.6 MB/s\u001b[0m eta \u001b[36m0:00:00\u001b[0m\n",
            "\u001b[2K     \u001b[90m━━━━━━━━━━━━━━━━━━━━━━━━━━━━━━━━━━━━━━━━\u001b[0m \u001b[32m290.4/290.4 kB\u001b[0m \u001b[31m23.3 MB/s\u001b[0m eta \u001b[36m0:00:00\u001b[0m\n",
            "\u001b[2K     \u001b[90m━━━━━━━━━━━━━━━━━━━━━━━━━━━━━━━━━━━━━━━━\u001b[0m \u001b[32m111.7/111.7 kB\u001b[0m \u001b[31m13.1 MB/s\u001b[0m eta \u001b[36m0:00:00\u001b[0m\n",
            "\u001b[2K     \u001b[90m━━━━━━━━━━━━━━━━━━━━━━━━━━━━━━━━━━━━━━━━\u001b[0m \u001b[32m2.4/2.4 MB\u001b[0m \u001b[31m47.4 MB/s\u001b[0m eta \u001b[36m0:00:00\u001b[0m\n",
            "\u001b[2K     \u001b[90m━━━━━━━━━━━━━━━━━━━━━━━━━━━━━━━━━━━━━━━━\u001b[0m \u001b[32m92.0/92.0 kB\u001b[0m \u001b[31m6.9 MB/s\u001b[0m eta \u001b[36m0:00:00\u001b[0m\n",
            "\u001b[2K     \u001b[90m━━━━━━━━━━━━━━━━━━━━━━━━━━━━━━━━━━━━━━━━\u001b[0m \u001b[32m62.4/62.4 kB\u001b[0m \u001b[31m2.6 MB/s\u001b[0m eta \u001b[36m0:00:00\u001b[0m\n",
            "\u001b[2K     \u001b[90m━━━━━━━━━━━━━━━━━━━━━━━━━━━━━━━━━━━━━━━━\u001b[0m \u001b[32m41.3/41.3 kB\u001b[0m \u001b[31m3.8 MB/s\u001b[0m eta \u001b[36m0:00:00\u001b[0m\n",
            "\u001b[2K     \u001b[90m━━━━━━━━━━━━━━━━━━━━━━━━━━━━━━━━━━━━━━━━\u001b[0m \u001b[32m5.4/5.4 MB\u001b[0m \u001b[31m34.0 MB/s\u001b[0m eta \u001b[36m0:00:00\u001b[0m\n",
            "\u001b[2K     \u001b[90m━━━━━━━━━━━━━━━━━━━━━━━━━━━━━━━━━━━━━━━━\u001b[0m \u001b[32m6.8/6.8 MB\u001b[0m \u001b[31m36.6 MB/s\u001b[0m eta \u001b[36m0:00:00\u001b[0m\n",
            "\u001b[2K     \u001b[90m━━━━━━━━━━━━━━━━━━━━━━━━━━━━━━━━━━━━━━━━\u001b[0m \u001b[32m59.9/59.9 kB\u001b[0m \u001b[31m4.4 MB/s\u001b[0m eta \u001b[36m0:00:00\u001b[0m\n",
            "\u001b[2K     \u001b[90m━━━━━━━━━━━━━━━━━━━━━━━━━━━━━━━━━━━━━━━━\u001b[0m \u001b[32m107.0/107.0 kB\u001b[0m \u001b[31m7.4 MB/s\u001b[0m eta \u001b[36m0:00:00\u001b[0m\n",
            "\u001b[2K     \u001b[90m━━━━━━━━━━━━━━━━━━━━━━━━━━━━━━━━━━━━━━━━\u001b[0m \u001b[32m67.3/67.3 kB\u001b[0m \u001b[31m3.8 MB/s\u001b[0m eta \u001b[36m0:00:00\u001b[0m\n",
            "\u001b[?25h  Installing build dependencies ... \u001b[?25l\u001b[?25hdone\n",
            "  Getting requirements to build wheel ... \u001b[?25l\u001b[?25hdone\n",
            "  Preparing metadata (pyproject.toml) ... \u001b[?25l\u001b[?25hdone\n",
            "\u001b[2K     \u001b[90m━━━━━━━━━━━━━━━━━━━━━━━━━━━━━━━━━━━━━━━━\u001b[0m \u001b[32m283.7/283.7 kB\u001b[0m \u001b[31m18.1 MB/s\u001b[0m eta \u001b[36m0:00:00\u001b[0m\n",
            "\u001b[2K     \u001b[90m━━━━━━━━━━━━━━━━━━━━━━━━━━━━━━━━━━━━━━━━\u001b[0m \u001b[32m1.6/1.6 MB\u001b[0m \u001b[31m74.1 MB/s\u001b[0m eta \u001b[36m0:00:00\u001b[0m\n",
            "\u001b[2K     \u001b[90m━━━━━━━━━━━━━━━━━━━━━━━━━━━━━━━━━━━━━━━━\u001b[0m \u001b[32m67.6/67.6 kB\u001b[0m \u001b[31m10.0 MB/s\u001b[0m eta \u001b[36m0:00:00\u001b[0m\n",
            "\u001b[2K     \u001b[90m━━━━━━━━━━━━━━━━━━━━━━━━━━━━━━━━━━━━━━━━\u001b[0m \u001b[32m142.5/142.5 kB\u001b[0m \u001b[31m19.2 MB/s\u001b[0m eta \u001b[36m0:00:00\u001b[0m\n",
            "\u001b[2K     \u001b[90m━━━━━━━━━━━━━━━━━━━━━━━━━━━━━━━━━━━━━━━━\u001b[0m \u001b[32m310.2/310.2 kB\u001b[0m \u001b[31m26.3 MB/s\u001b[0m eta \u001b[36m0:00:00\u001b[0m\n",
            "\u001b[2K     \u001b[90m━━━━━━━━━━━━━━━━━━━━━━━━━━━━━━━━━━━━━━━━\u001b[0m \u001b[32m124.4/124.4 kB\u001b[0m \u001b[31m16.2 MB/s\u001b[0m eta \u001b[36m0:00:00\u001b[0m\n",
            "\u001b[2K     \u001b[90m━━━━━━━━━━━━━━━━━━━━━━━━━━━━━━━━━━━━━━━━\u001b[0m \u001b[32m75.6/75.6 kB\u001b[0m \u001b[31m10.3 MB/s\u001b[0m eta \u001b[36m0:00:00\u001b[0m\n",
            "\u001b[2K     \u001b[90m━━━━━━━━━━━━━━━━━━━━━━━━━━━━━━━━━━━━━━━━\u001b[0m \u001b[32m2.0/2.0 MB\u001b[0m \u001b[31m62.8 MB/s\u001b[0m eta \u001b[36m0:00:00\u001b[0m\n",
            "\u001b[2K     \u001b[90m━━━━━━━━━━━━━━━━━━━━━━━━━━━━━━━━━━━━━━━━\u001b[0m \u001b[32m49.3/49.3 kB\u001b[0m \u001b[31m4.9 MB/s\u001b[0m eta \u001b[36m0:00:00\u001b[0m\n",
            "\u001b[2K     \u001b[90m━━━━━━━━━━━━━━━━━━━━━━━━━━━━━━━━━━━━━━━━\u001b[0m \u001b[32m71.9/71.9 kB\u001b[0m \u001b[31m9.3 MB/s\u001b[0m eta \u001b[36m0:00:00\u001b[0m\n",
            "\u001b[2K     \u001b[90m━━━━━━━━━━━━━━━━━━━━━━━━━━━━━━━━━━━━━━━━\u001b[0m \u001b[32m53.6/53.6 kB\u001b[0m \u001b[31m5.9 MB/s\u001b[0m eta \u001b[36m0:00:00\u001b[0m\n",
            "\u001b[2K     \u001b[90m━━━━━━━━━━━━━━━━━━━━━━━━━━━━━━━━━━━━━━━━\u001b[0m \u001b[32m77.9/77.9 kB\u001b[0m \u001b[31m10.5 MB/s\u001b[0m eta \u001b[36m0:00:00\u001b[0m\n",
            "\u001b[2K     \u001b[90m━━━━━━━━━━━━━━━━━━━━━━━━━━━━━━━━━━━━━━━━\u001b[0m \u001b[32m58.3/58.3 kB\u001b[0m \u001b[31m6.8 MB/s\u001b[0m eta \u001b[36m0:00:00\u001b[0m\n",
            "\u001b[2K     \u001b[90m━━━━━━━━━━━━━━━━━━━━━━━━━━━━━━━━━━━━━━━━\u001b[0m \u001b[32m53.0/53.0 kB\u001b[0m \u001b[31m7.8 MB/s\u001b[0m eta \u001b[36m0:00:00\u001b[0m\n",
            "\u001b[2K     \u001b[90m━━━━━━━━━━━━━━━━━━━━━━━━━━━━━━━━━━━━━━━━\u001b[0m \u001b[32m46.0/46.0 kB\u001b[0m \u001b[31m7.1 MB/s\u001b[0m eta \u001b[36m0:00:00\u001b[0m\n",
            "\u001b[2K     \u001b[90m━━━━━━━━━━━━━━━━━━━━━━━━━━━━━━━━━━━━━━━━\u001b[0m \u001b[32m52.5/52.5 kB\u001b[0m \u001b[31m8.3 MB/s\u001b[0m eta \u001b[36m0:00:00\u001b[0m\n",
            "\u001b[2K     \u001b[90m━━━━━━━━━━━━━━━━━━━━━━━━━━━━━━━━━━━━━━━━\u001b[0m \u001b[32m130.5/130.5 kB\u001b[0m \u001b[31m21.1 MB/s\u001b[0m eta \u001b[36m0:00:00\u001b[0m\n",
            "\u001b[2K     \u001b[90m━━━━━━━━━━━━━━━━━━━━━━━━━━━━━━━━━━━━━━━━\u001b[0m \u001b[32m21.3/21.3 MB\u001b[0m \u001b[31m46.6 MB/s\u001b[0m eta \u001b[36m0:00:00\u001b[0m\n",
            "\u001b[2K     \u001b[90m━━━━━━━━━━━━━━━━━━━━━━━━━━━━━━━━━━━━━━━━\u001b[0m \u001b[32m341.4/341.4 kB\u001b[0m \u001b[31m33.9 MB/s\u001b[0m eta \u001b[36m0:00:00\u001b[0m\n",
            "\u001b[2K     \u001b[90m━━━━━━━━━━━━━━━━━━━━━━━━━━━━━━━━━━━━━━━━\u001b[0m \u001b[32m3.4/3.4 MB\u001b[0m \u001b[31m62.7 MB/s\u001b[0m eta \u001b[36m0:00:00\u001b[0m\n",
            "\u001b[2K     \u001b[90m━━━━━━━━━━━━━━━━━━━━━━━━━━━━━━━━━━━━━━━━\u001b[0m \u001b[32m1.2/1.2 MB\u001b[0m \u001b[31m55.7 MB/s\u001b[0m eta \u001b[36m0:00:00\u001b[0m\n",
            "\u001b[2K     \u001b[90m━━━━━━━━━━━━━━━━━━━━━━━━━━━━━━━━━━━━━━━━\u001b[0m \u001b[32m130.2/130.2 kB\u001b[0m \u001b[31m16.8 MB/s\u001b[0m eta \u001b[36m0:00:00\u001b[0m\n",
            "\u001b[2K     \u001b[90m━━━━━━━━━━━━━━━━━━━━━━━━━━━━━━━━━━━━━━━━\u001b[0m \u001b[32m307.7/307.7 kB\u001b[0m \u001b[31m38.9 MB/s\u001b[0m eta \u001b[36m0:00:00\u001b[0m\n",
            "\u001b[2K     \u001b[90m━━━━━━━━━━━━━━━━━━━━━━━━━━━━━━━━━━━━━━━━\u001b[0m \u001b[32m47.2/47.2 kB\u001b[0m \u001b[31m6.6 MB/s\u001b[0m eta \u001b[36m0:00:00\u001b[0m\n",
            "\u001b[2K     \u001b[90m━━━━━━━━━━━━━━━━━━━━━━━━━━━━━━━━━━━━━━━━\u001b[0m \u001b[32m86.8/86.8 kB\u001b[0m \u001b[31m9.7 MB/s\u001b[0m eta \u001b[36m0:00:00\u001b[0m\n",
            "\u001b[?25h  Building wheel for pypika (pyproject.toml) ... \u001b[?25l\u001b[?25hdone\n",
            "\u001b[31mERROR: pip's dependency resolver does not currently take into account all the packages that are installed. This behaviour is the source of the following dependency conflicts.\n",
            "spacy 3.7.4 requires typer<0.10.0,>=0.3.0, but you have typer 0.12.3 which is incompatible.\n",
            "weasel 0.3.4 requires typer<0.10.0,>=0.3.0, but you have typer 0.12.3 which is incompatible.\u001b[0m\u001b[31m\n",
            "\u001b[2K     \u001b[90m━━━━━━━━━━━━━━━━━━━━━━━━━━━━━━━━━━━━━━━━\u001b[0m \u001b[32m27.0/27.0 MB\u001b[0m \u001b[31m36.7 MB/s\u001b[0m eta \u001b[36m0:00:00\u001b[0m\n",
            "\u001b[?25h"
          ]
        }
      ],
      "source": [
        "# Install required packages\n",
        "!pip install -qU langchain langchain-openai openai langchain_community sentence_transformers tiktoken pydantic docarray chromadb==0.4.24 pypdf lark\n",
        "!pip install -qU faiss-cpu #faiss-gpu For CUDA 7.5+ Supported GPU's."
      ]
    },
    {
      "cell_type": "code",
      "source": [
        "!pip freeze | grep \"lang\\|openai\\|chroma\""
      ],
      "metadata": {
        "id": "0XpDhQFr_JBc",
        "colab": {
          "base_uri": "https://localhost:8080/"
        },
        "outputId": "748b3098-dc45-462e-bea4-ed2dd57b2cae"
      },
      "execution_count": null,
      "outputs": [
        {
          "output_type": "stream",
          "name": "stdout",
          "text": [
            "chroma-hnswlib==0.7.3\n",
            "chromadb==0.4.24\n",
            "google-ai-generativelanguage==0.6.4\n",
            "google-cloud-language==2.13.3\n",
            "langchain==0.2.1\n",
            "langchain-community==0.2.1\n",
            "langchain-core==0.2.3\n",
            "langchain-openai==0.1.8\n",
            "langchain-text-splitters==0.2.0\n",
            "langcodes==3.4.0\n",
            "langsmith==0.1.69\n",
            "language_data==1.2.0\n",
            "libclang==18.1.1\n",
            "openai==1.31.0\n"
          ]
        }
      ]
    },
    {
      "cell_type": "markdown",
      "metadata": {
        "id": "u6dlBjyHYuOg"
      },
      "source": [
        "#### Setting Up the OpenAI API Key\n",
        "First, we set up the OpenAI API key for our application. This is necessary for accessing various OpenAI services, including the language models. If you're running this in Google Colab, it will attempt to use the API key stored in your Colab environment; otherwise, it falls back to a default value you can replace.\n"
      ]
    },
    {
      "cell_type": "code",
      "execution_count": null,
      "metadata": {
        "id": "XI5WyCPl_yCL"
      },
      "outputs": [],
      "source": [
        "# Set OpenAI API key from Google Colab's user environment or default\n",
        "def set_openai_api_key(default_key: str = \"YOUR_API_KEY\") -> None:\n",
        "    \"\"\"Set the OpenAI API key from Google Colab's user environment or use a default value.\"\"\"\n",
        "    from google.colab import userdata\n",
        "    import os\n",
        "\n",
        "    os.environ[\"OPENAI_API_KEY\"] = userdata.get(\"OPENAI_API_KEY\") or default_key\n",
        "\n",
        "\n",
        "set_openai_api_key()"
      ]
    },
    {
      "cell_type": "markdown",
      "metadata": {
        "id": "0c9dol6rhQYc"
      },
      "source": [
        "## Vectorstores\n",
        "\n",
        "Vectorstores are used for efficient storage and retrieval of text embeddings. You are free to choose any vector store to perform similarity searches.\n",
        "\n",
        "Chroma is recomended to start with"
      ]
    },
    {
      "cell_type": "code",
      "execution_count": null,
      "metadata": {
        "id": "m9J1DvLCh1k3"
      },
      "outputs": [],
      "source": [
        "from langchain_openai import OpenAIEmbeddings, ChatOpenAI\n",
        "from langchain.vectorstores import Chroma\n",
        "from langchain.document_loaders import TextLoader, PyPDFLoader\n",
        "from langchain.text_splitter import RecursiveCharacterTextSplitter"
      ]
    },
    {
      "cell_type": "code",
      "execution_count": null,
      "metadata": {
        "id": "PDDv5Sz2h1ni"
      },
      "outputs": [],
      "source": [
        "persist_directory = \"db/chroma/\""
      ]
    },
    {
      "cell_type": "code",
      "execution_count": null,
      "metadata": {
        "id": "Sy0Q5RBFiFXT"
      },
      "outputs": [],
      "source": [
        "!rm -rf ./db/chroma  # removing other db files! Be careful!"
      ]
    },
    {
      "cell_type": "markdown",
      "source": [
        "## Utility functions\n",
        "\n",
        "Below are some utility functions to comple the task easier"
      ],
      "metadata": {
        "id": "pBdUK6ESbkoT"
      }
    },
    {
      "cell_type": "code",
      "execution_count": null,
      "metadata": {
        "id": "x6lp5mtrfOUV"
      },
      "outputs": [],
      "source": [
        "# You can load the pdf files using the followin rows:\n",
        "\n",
        "# pdf_url = \"link/to/pdf\"\n",
        "# pdf_filename = \"some_pdf_name.pdf\"\n",
        "# pdf_document = load_document_from_url(pdf_url, \"some_pdf_name.pdf\", SOME_PDF_LOADER)\n",
        "\n",
        "import requests\n",
        "\n",
        "# Example of loading and using document loaders\n",
        "def load_document_from_url(url: str, filename: str, loader_class):\n",
        "    \"\"\"Download a document from a URL, save it, and load it using a specified loader class.\n",
        "\n",
        "    Args:\n",
        "        url: URL of the document to download.\n",
        "        filename: Filename to save the downloaded document.\n",
        "        loader_class: The class of loader to use for loading the document.\n",
        "\n",
        "    Returns:\n",
        "        The loaded document.\n",
        "    \"\"\"\n",
        "    download_and_save_file(url, filename)\n",
        "    loader = loader_class(filename)\n",
        "    return loader.load()\n",
        "\n",
        "\n",
        "def download_and_save_file(url: str, filename: str) -> None:\n",
        "    \"\"\"Download file from a URL and save it locally.\n",
        "\n",
        "    Args:\n",
        "        url: The URL of the file to download.\n",
        "        filename: The local filename to save the downloaded content.\n",
        "    \"\"\"\n",
        "    response = requests.get(url)\n",
        "    response.raise_for_status()  # Raises HTTPError for bad responses\n",
        "    with open(filename, \"wb\") as file:\n",
        "        file.write(response.content)"
      ]
    },
    {
      "cell_type": "code",
      "execution_count": null,
      "metadata": {
        "id": "qySZyVLbOaQY"
      },
      "outputs": [],
      "source": [
        "# Utility functions\n",
        "\n",
        "# You can load display the similarity search results\n",
        "\n",
        "def display_similarity_search_results(docs, excerpt_length=200):\n",
        "    \"\"\"\n",
        "    Displays results from a similarity search.\n",
        "\n",
        "    This function checks the structure of the documents to determine how to display them.\n",
        "    If a document includes a score, it prints both the document content (truncated to `excerpt_length`) and its score.\n",
        "    Otherwise, it prints the document content and metadata.\n",
        "\n",
        "    Args:\n",
        "        docs: A list of documents from a similarity search. Each document can either be a tuple with\n",
        "              (document, score) format or a single document object.\n",
        "        excerpt_length: The maximum length of the document content to display.\n",
        "    \"\"\"\n",
        "    for doc in docs:\n",
        "        if isinstance(doc, tuple):\n",
        "            # Handle case with document and score\n",
        "            doc, score = doc[0], doc[1]\n",
        "        else:\n",
        "            # Handle case without score, directly accessing the document\n",
        "            score = None\n",
        "\n",
        "        print(f\"doc: {doc.page_content[:excerpt_length]}\")\n",
        "        print(f\"metadata: {doc.metadata}\")\n",
        "        print(f\"score: {score}\" if score else \"\")\n",
        "        print(\"-\" * 30)"
      ]
    },
    {
      "cell_type": "markdown",
      "metadata": {
        "id": "avXKd2BDHNNp"
      },
      "source": [
        "## Task\n",
        "\n",
        "Your task will be to build a Retriever-Augmented Generation (RAG) pipeline, combining retrieved relevant documents and generating responses based on those documents.\n",
        "\n",
        "There will be a couple of questions that your application will need to answer\n"
      ]
    },
    {
      "cell_type": "code",
      "source": [
        "llm = ChatOpenAI(model=\"gpt-4o\", temperature=0)\n",
        "openai_embedding = OpenAIEmbeddings(model=\"text-embedding-3-large\")"
      ],
      "metadata": {
        "id": "gYbdx-VwIlu6"
      },
      "execution_count": null,
      "outputs": []
    },
    {
      "cell_type": "code",
      "execution_count": null,
      "metadata": {
        "id": "oKxg3YIEIHJG"
      },
      "outputs": [],
      "source": [
        "question_1 = \"What is the fine for driving in the bus lane?\""
      ]
    },
    {
      "cell_type": "markdown",
      "source": [
        "Upload the file"
      ],
      "metadata": {
        "id": "CrtjZuHRjRmt"
      }
    },
    {
      "cell_type": "code",
      "execution_count": null,
      "metadata": {
        "id": "fkFEWb2ak1Oc"
      },
      "outputs": [],
      "source": [
        "pdf_url = \"https://raw.githubusercontent.com/IvanReznikov/The-Generative-AI-with-LangChain/main/data/pdf/appecodicestrada.pdf\"\n",
        "pdf_filename = \"rule_updates.pdf\""
      ]
    },
    {
      "cell_type": "code",
      "execution_count": null,
      "metadata": {
        "id": "FHIn2dn9HaHW"
      },
      "outputs": [],
      "source": [
        "pdf_document = load_document_from_url(pdf_url, \"rule_updates.pdf\", PyPDFLoader)"
      ]
    },
    {
      "cell_type": "markdown",
      "source": [
        "The uploaded above file contains information regarding the updated rules to drive in Italy"
      ],
      "metadata": {
        "id": "eOJ2o_ZJcKMk"
      }
    },
    {
      "cell_type": "markdown",
      "source": [
        "1. Split the data to chunks as you find most necessary (https://python.langchain.com/v0.1/docs/modules/data_connection/document_transformers/)\n",
        "\n",
        "```\n",
        "pdf_splitter = RecursiveCharacterTextSplitter(\n",
        "    separators=..., chunk_size=..., chunk_overlap=..., keep_separator=...\n",
        ")\n",
        "chunks = pdf_splitter.split_documents(pdf_document)\n",
        "```"
      ],
      "metadata": {
        "id": "YiILRd4gd_9m"
      }
    },
    {
      "cell_type": "code",
      "execution_count": null,
      "metadata": {
        "id": "VLaBjNSgHuQI"
      },
      "outputs": [],
      "source": [
        "pdf_splitter = RecursiveCharacterTextSplitter(\n",
        "    separators=[\"\\n\"], chunk_size=500, chunk_overlap=100, keep_separator=False\n",
        ")\n",
        "chunks = pdf_splitter.split_documents(pdf_document)"
      ]
    },
    {
      "cell_type": "code",
      "execution_count": null,
      "metadata": {
        "colab": {
          "base_uri": "https://localhost:8080/"
        },
        "id": "Vz8vJja3HaLO",
        "outputId": "623f5942-4afb-4a44-c6fe-593a848d3550"
      },
      "outputs": [
        {
          "output_type": "execute_result",
          "data": {
            "text/plain": [
              "Document(page_content='TUTTE LE MODIFICHE AL CODICE DELLA STRADA (*)  \\n \\n(*) Le modifiche apportate dal Dl 76/2020, convertito con modificazioni dalla legge 120/2020, sono \\nevidenziate in nero.  \\n \\nArticolo 2   \\n(Definizione e classificazione delle strade)  \\n1. Ai fini dell\\'applicazione delle norme del presente codice si definisce \"strada\" l\\'area ad uso pubblico \\ndestinata alla circolazione dei pedoni, dei veicoli e degli animali.', metadata={'source': 'rule_updates.pdf', 'page': 0})"
            ]
          },
          "metadata": {},
          "execution_count": 14
        }
      ],
      "source": [
        "chunks[0]"
      ]
    },
    {
      "cell_type": "markdown",
      "source": [
        "2. Upload data to Chroma\n",
        "\n",
        "```\n",
        "chroma_db = Chroma.from_documents(\n",
        "    documents=some_chunks, embedding=some_embedding_model, persist_directory=persist_directory\n",
        ")\n",
        "```"
      ],
      "metadata": {
        "id": "UoHt-AlkeWN0"
      }
    },
    {
      "cell_type": "code",
      "execution_count": null,
      "metadata": {
        "id": "6-eYJVICHaPz"
      },
      "outputs": [],
      "source": [
        "chroma_db = Chroma.from_documents(\n",
        "    documents=chunks, embedding=openai_embedding, persist_directory=persist_directory\n",
        ")"
      ]
    },
    {
      "cell_type": "markdown",
      "source": [
        "3. Display the closest results related to `question_1`. If the results aren't satisfying, you may consider changing one of the previous steps\n",
        "\n",
        "`docs = chroma_db.similarity_search_with_score(question_1, k=3)`\n",
        "\n",
        "Use the `display_similarity_search_results(docs)` to display the results"
      ],
      "metadata": {
        "id": "4Utde_-uebTA"
      }
    },
    {
      "cell_type": "code",
      "execution_count": null,
      "metadata": {
        "colab": {
          "base_uri": "https://localhost:8080/"
        },
        "id": "Ah11l4Xuk1Qm",
        "outputId": "7e83a02d-1d58-4d4a-a817-dc51567567f1"
      },
      "outputs": [
        {
          "output_type": "stream",
          "name": "stdout",
          "text": [
            "doc: sanzione amministrativa del pagamento di una somma da Euro 42,00 a Euro 173,00. La violazione del \n",
            "divieto di circolazione nelle corsie riservate ai mezzi pubblici di trasporto, nelle aree pedonali e \n",
            "metadata: {'page': 8, 'source': 'rule_updates.pdf'}\n",
            "score: 0.9602651000022888\n",
            "------------------------------\n",
            "doc: pagamento di una somma da euro 167,00 a euro 666,00.  \n",
            "11. Quando lo stesso soggetto sia incorso, in un periodo di due anni, in una delle violazioni di cui al comma \n",
            "10 per almeno due volte, all'ultim\n",
            "metadata: {'page': 19, 'source': 'rule_updates.pdf'}\n",
            "score: 1.1416693925857544\n",
            "------------------------------\n",
            "doc: pagamento di una somma da euro 26,00 a euro 102,00. La sanzione è da euro 42,00 a euro 173,00 quando \n",
            "si tratta di velocipedi di cu i al comma 6.  \n",
            " \n",
            "Articolo 201  \n",
            "(Notificazione delle violazioni)  \n",
            "\n",
            "metadata: {'page': 25, 'source': 'rule_updates.pdf'}\n",
            "score: 1.1514800586081162\n",
            "------------------------------\n"
          ]
        }
      ],
      "source": [
        "docs = chroma_db.similarity_search_with_score(question_1, k=3)\n",
        "display_similarity_search_results(docs)"
      ]
    },
    {
      "cell_type": "markdown",
      "source": [
        "4. Use the RAG pipeline and query it using `rag_chain.invoke(question_1)`"
      ],
      "metadata": {
        "id": "PrBxtDSNezCO"
      }
    },
    {
      "cell_type": "code",
      "execution_count": null,
      "metadata": {
        "id": "XGF0QzuXIkzt"
      },
      "outputs": [],
      "source": [
        "from langchain_core.runnables import RunnableParallel, RunnablePassthrough\n",
        "from langchain_core.output_parsers import StrOutputParser\n",
        "from langchain_core.prompts import ChatPromptTemplate\n",
        "\n",
        "def setup_rag(**kwargs):\n",
        "    retriever = chroma_db.as_retriever(**kwargs)\n",
        "    setup_and_retrieval = RunnableParallel(\n",
        "        {\"context\": retriever, \"question\": RunnablePassthrough()}\n",
        "    )\n",
        "\n",
        "    template = \"\"\"Answer the question based only on the following context:\n",
        "    {context}\n",
        "\n",
        "    Question: {question}\n",
        "    \"\"\"\n",
        "    prompt = ChatPromptTemplate.from_template(template)\n",
        "\n",
        "    output_parser = StrOutputParser()\n",
        "\n",
        "    rag_chain = setup_and_retrieval | prompt | llm | output_parser\n",
        "    return rag_chain"
      ]
    },
    {
      "cell_type": "code",
      "source": [
        "rag_chain = setup_rag()"
      ],
      "metadata": {
        "id": "k_iEMFfLeb_r"
      },
      "execution_count": null,
      "outputs": []
    },
    {
      "cell_type": "code",
      "execution_count": null,
      "metadata": {
        "colab": {
          "base_uri": "https://localhost:8080/",
          "height": 35
        },
        "id": "XG8xiTlFIxMr",
        "outputId": "4174baca-011a-4c0c-cf59-de4838644098"
      },
      "outputs": [
        {
          "output_type": "execute_result",
          "data": {
            "text/plain": [
              "'The fine for driving in the bus lane is from €83.00 to €333.00.'"
            ],
            "application/vnd.google.colaboratory.intrinsic+json": {
              "type": "string"
            }
          },
          "metadata": {},
          "execution_count": 19
        }
      ],
      "source": [
        "rag_chain.invoke(question_1)"
      ]
    },
    {
      "cell_type": "markdown",
      "metadata": {
        "id": "xJrEKSglNztk"
      },
      "source": [
        "![image.png](data:image/png;base64,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)"
      ]
    },
    {
      "cell_type": "code",
      "execution_count": null,
      "metadata": {
        "id": "tD8J4MDCNuyc"
      },
      "outputs": [],
      "source": [
        "question_2 = \"What should the driver do before overtaking?\""
      ]
    },
    {
      "cell_type": "code",
      "execution_count": null,
      "metadata": {
        "colab": {
          "base_uri": "https://localhost:8080/"
        },
        "id": "BtYgVN2eOweV",
        "outputId": "b9756bc7-0018-40c3-92b6-fcf991658d34"
      },
      "outputs": [
        {
          "output_type": "stream",
          "name": "stdout",
          "text": [
            "doc: tenendosi da questo ad una adeguata distanza laterale e riportarsi a destra appena possibile, senza creare \n",
            "pericolo o intralcio. Se la carreggiata o semicarreggiata sono suddivise in più corsie, il s\n",
            "metadata: {'page': 19, 'source': 'rule_updates.pdf'}\n",
            "score: 1.050602912902832\n",
            "------------------------------\n",
            "doc: o intralcio;  \n",
            "b) che il conducente che lo precede nella stessa corsia non abbia segnalato di voler compiere analoga \n",
            "manovra;  \n",
            "c) che nessun conducente che segue sulla stessa carreggiata o semicarre\n",
            "metadata: {'page': 19, 'source': 'rule_updates.pdf'}\n",
            "score: 1.0637946128845215\n",
            "------------------------------\n",
            "doc: anche conto della differenza tra la propria velocità e quella dell'utente da sorpassare, nonché della \n",
            "presenza di utenti che sopraggiungono dalla direzione contraria o che precedono l'utente da sorpa\n",
            "metadata: {'page': 19, 'source': 'rule_updates.pdf'}\n",
            "score: 1.0803749561309814\n",
            "------------------------------\n"
          ]
        }
      ],
      "source": [
        "docs = chroma_db.similarity_search_with_score(question_2, k=3)\n",
        "display_similarity_search_results(docs)"
      ]
    },
    {
      "cell_type": "code",
      "execution_count": null,
      "metadata": {
        "colab": {
          "base_uri": "https://localhost:8080/",
          "height": 70
        },
        "id": "VSNvC1neOseF",
        "outputId": "b8d5878e-e655-4810-8276-f2059d0da661"
      },
      "outputs": [
        {
          "output_type": "execute_result",
          "data": {
            "text/plain": [
              "'Before overtaking, the driver should:\\n\\n1. Ensure that the driver ahead in the same lane has not signaled an intention to overtake.\\n2. Confirm that no driver following in the same lane or in the lane immediately to the left has started overtaking.\\n3. Verify that the road is clear for a sufficient distance to complete the overtaking maneuver safely, considering the speed difference between their vehicle and the one to be overtaken, as well as the presence of oncoming traffic or other users ahead of the vehicle to be overtaken.'"
            ],
            "application/vnd.google.colaboratory.intrinsic+json": {
              "type": "string"
            }
          },
          "metadata": {},
          "execution_count": 22
        }
      ],
      "source": [
        "rag_chain.invoke(question_2)"
      ]
    },
    {
      "cell_type": "markdown",
      "metadata": {
        "id": "gFs9OoucOqBd"
      },
      "source": [
        "![image.png](data:image/png;base64,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)"
      ]
    },
    {
      "cell_type": "markdown",
      "source": [
        "## Advanced retrieval operations"
      ],
      "metadata": {
        "id": "7s84tJJUY_WI"
      }
    },
    {
      "cell_type": "markdown",
      "source": [
        "`Maximum marginal relevance` or `MMR` strives to achieve both relevance to the query and diversity among the results. We setup `k` as the number of documents we want to get and `fetch_k` as the amount of documents to choose from.\n",
        "\n",
        "Let's look closely how the pages of chunks changed, compared to the previous result - compare pages and fragements of documents.\n",
        "\n",
        "use `chroma_db.max_marginal_relevance_search(your_question, k=3, fetch_k=10)`\n",
        "\n"
      ],
      "metadata": {
        "id": "vnhavlTsfOFI"
      }
    },
    {
      "cell_type": "code",
      "execution_count": null,
      "metadata": {
        "colab": {
          "base_uri": "https://localhost:8080/"
        },
        "id": "Tl1cyQbqRIJv",
        "outputId": "97f34f53-7061-4491-ec90-ac6200707d13"
      },
      "outputs": [
        {
          "output_type": "stream",
          "name": "stdout",
          "text": [
            "doc: tenendosi da questo ad una adeguata distanza laterale e riportarsi a destra appena possibile, senza creare \n",
            "pericolo o intralcio. Se la carreggiata o semicarreggiata sono suddivise in più corsie, il s\n",
            "metadata: {'page': 19, 'source': 'rule_updates.pdf'}\n",
            "\n",
            "------------------------------\n",
            "doc: sicurezza in considerazione della minore stab ilità e della probabilità di ondeggiamenti e deviazioni da \n",
            "parte del velocipede stesso. Prima di effettuare il sorpasso di un velocipede, il conducente \n",
            "\n",
            "metadata: {'page': 20, 'source': 'rule_updates.pdf'}\n",
            "\n",
            "------------------------------\n",
            "doc: rallentare e, se necessario, metter si da parte appena possibile, per lasciar passare i veicoli che seguono. Nei \n",
            "centri abitati non sono tenuti all'osservanza di quest'ultima disposizione i conducent\n",
            "metadata: {'page': 19, 'source': 'rule_updates.pdf'}\n",
            "\n",
            "------------------------------\n"
          ]
        }
      ],
      "source": [
        "docs = chroma_db.max_marginal_relevance_search(question_2, k=3, fetch_k=10)\n",
        "display_similarity_search_results(docs)"
      ]
    },
    {
      "cell_type": "markdown",
      "source": [
        "To incorporate in your setup_rag pipeline, use search_type=\"mmr\", fetch_k=10 parameters"
      ],
      "metadata": {
        "id": "k-ZEcVHxfqMR"
      }
    },
    {
      "cell_type": "code",
      "source": [
        "rag_chain = setup_rag(search_type=\"mmr\", fetch_k=10)"
      ],
      "metadata": {
        "id": "9JROWySggRBr"
      },
      "execution_count": null,
      "outputs": []
    },
    {
      "cell_type": "code",
      "source": [
        "rag_chain.invoke(question_2)"
      ],
      "metadata": {
        "colab": {
          "base_uri": "https://localhost:8080/",
          "height": 35
        },
        "id": "avgruGBejv_j",
        "outputId": "3b327b3c-b89c-4d29-a163-357c2e4a6efe"
      },
      "execution_count": null,
      "outputs": [
        {
          "output_type": "execute_result",
          "data": {
            "text/plain": [
              "'Before overtaking, the driver should evaluate the existence of conditions that allow for the maneuver to be completed in complete safety for both vehicles, and reduce speed particularly if necessary.'"
            ],
            "application/vnd.google.colaboratory.intrinsic+json": {
              "type": "string"
            }
          },
          "metadata": {},
          "execution_count": 25
        }
      ]
    },
    {
      "cell_type": "markdown",
      "source": [
        "## Filtering documents\n",
        "\n",
        "So far we had only 1 document. But usually you may have much more files in the database. You can implement filtering documents by metadata (source, page, etc)"
      ],
      "metadata": {
        "id": "ySaMMc0qYVCT"
      }
    },
    {
      "cell_type": "code",
      "source": [
        "print(chroma_db._collection.count())"
      ],
      "metadata": {
        "colab": {
          "base_uri": "https://localhost:8080/"
        },
        "id": "MjQ3h5FWbJuC",
        "outputId": "50b0bce9-42a6-4a85-bacd-8438f30e28b1"
      },
      "execution_count": null,
      "outputs": [
        {
          "output_type": "stream",
          "name": "stdout",
          "text": [
            "251\n"
          ]
        }
      ]
    },
    {
      "cell_type": "code",
      "execution_count": null,
      "metadata": {
        "id": "2Ta9W-2Ra0Xm"
      },
      "outputs": [],
      "source": [
        "pdf_url = \"https://raw.githubusercontent.com/IvanReznikov/The-Generative-AI-with-LangChain/main/data/pdf/settestrade-dicembre-2017.pdf\"\n",
        "pdf_filename = \"settestrade.pdf\""
      ]
    },
    {
      "cell_type": "code",
      "execution_count": null,
      "metadata": {
        "id": "Xq9SqboUa0Xo"
      },
      "outputs": [],
      "source": [
        "pdf_document = load_document_from_url(pdf_url, \"settestrade.pdf\", PyPDFLoader)"
      ]
    },
    {
      "cell_type": "markdown",
      "source": [
        "Don't forget to split the data to chunks and upload to Chroma!"
      ],
      "metadata": {
        "id": "-V9cVcsGgBBA"
      }
    },
    {
      "cell_type": "code",
      "execution_count": null,
      "metadata": {
        "id": "CPW5_QUOa0Xq"
      },
      "outputs": [],
      "source": [
        "pdf_splitter = RecursiveCharacterTextSplitter(\n",
        "    separators=[\"\\n\"], chunk_size=500, chunk_overlap=100, keep_separator=False\n",
        ")\n",
        "chunks = pdf_splitter.split_documents(pdf_document)"
      ]
    },
    {
      "cell_type": "code",
      "source": [
        "chroma_db = Chroma.from_documents(\n",
        "    documents=chunks, embedding=openai_embedding, persist_directory=persist_directory\n",
        ")"
      ],
      "metadata": {
        "id": "n8wAzPU0bEEX"
      },
      "execution_count": null,
      "outputs": []
    },
    {
      "cell_type": "code",
      "source": [
        "pdf_url = \"https://raw.githubusercontent.com/IvanReznikov/The-Generative-AI-with-LangChain/main/data/pdf/codice_010910.pdf\"\n",
        "pdf_filename = \"codice_010910.pdf\""
      ],
      "metadata": {
        "id": "Dgs7IoeKPtE_"
      },
      "execution_count": null,
      "outputs": []
    },
    {
      "cell_type": "code",
      "source": [
        "pdf_document = load_document_from_url(pdf_url, \"codice_010910.pdf\", PyPDFLoader)"
      ],
      "metadata": {
        "id": "IA3fW7RSPt-i"
      },
      "execution_count": null,
      "outputs": []
    },
    {
      "cell_type": "code",
      "execution_count": null,
      "metadata": {
        "id": "_A57xeVlP378"
      },
      "outputs": [],
      "source": [
        "pdf_splitter = RecursiveCharacterTextSplitter(\n",
        "    separators=[\"\\n\"], chunk_size=500, chunk_overlap=100, keep_separator=False\n",
        ")\n",
        "chunks = pdf_splitter.split_documents(pdf_document)"
      ]
    },
    {
      "cell_type": "code",
      "source": [
        "chroma_db = Chroma.from_documents(\n",
        "    documents=chunks, embedding=openai_embedding, persist_directory=persist_directory\n",
        ")"
      ],
      "metadata": {
        "id": "l1sqv5_gP379"
      },
      "execution_count": null,
      "outputs": []
    },
    {
      "cell_type": "code",
      "source": [
        "print(chroma_db._collection.count())"
      ],
      "metadata": {
        "colab": {
          "base_uri": "https://localhost:8080/"
        },
        "id": "iVwKvoxqbKXL",
        "outputId": "4d8d7556-f82b-4696-f273-f47b02c12be6"
      },
      "execution_count": null,
      "outputs": [
        {
          "output_type": "stream",
          "name": "stdout",
          "text": [
            "2626\n"
          ]
        }
      ]
    },
    {
      "cell_type": "markdown",
      "source": [
        "Let's view how our first question is similar to chunks found in all documents uploaded to vector store."
      ],
      "metadata": {
        "id": "5bL8wtRMgNXc"
      }
    },
    {
      "cell_type": "code",
      "execution_count": null,
      "metadata": {
        "colab": {
          "base_uri": "https://localhost:8080/"
        },
        "id": "AeA668LOSqlK",
        "outputId": "a80b16ef-011c-4d7c-e121-dcc71369f33d"
      },
      "outputs": [
        {
          "output_type": "stream",
          "name": "stdout",
          "text": [
            "doc: sanzione amministrativa del pagamento di una somma da Euro 42,00 a Euro 173,00. La violazione del \n",
            "divieto di circolazione nelle corsie riservate ai mezzi pubblici di trasporto, nelle aree pedonali e \n",
            "metadata: {'page': 8, 'source': 'rule_updates.pdf'}\n",
            "\n",
            "------------------------------\n",
            "doc: alla sanzione amministrativa del pagamento di una somma da euro 38 a euro 155. La violazione del \n",
            "divieto di circolazione nelle corsie riservate ai mezzi pubblici di trasporto, nelle aree pedonali e \n",
            "\n",
            "metadata: {'page': 12, 'source': 'codice_010910.pdf'}\n",
            "\n",
            "------------------------------\n",
            "doc: amministrativa del pagamento di una somma da euro 78 a euro 311. (4) \n",
            "14. Chiunque viola gli altri obblighi, divieti o limi tazioni previsti nel presente articolo, è soggetto alla sanzione \n",
            "amministra\n",
            "metadata: {'page': 14, 'source': 'codice_010910.pdf'}\n",
            "\n",
            "------------------------------\n",
            "doc: è del pagamento di una somma da euro 23 a euro 92.  \n",
            "11. Chiunque viola le altre disposizioni del presente articolo è soggetto alla sanzione amministrativa \n",
            "del pagamento di una somma da euro 38 a eur\n",
            "metadata: {'page': 144, 'source': 'codice_010910.pdf'}\n",
            "\n",
            "------------------------------\n",
            "doc: amministrativa del pagamento di una somma da euro 74 a euro 299. (5)  \n",
            "15. Nei casi di sosta vietata, in cui la violazione si prolunghi oltre le ventiquattro ore, la sanzione amministrativa \n",
            "pecuniari\n",
            "metadata: {'page': 14, 'source': 'codice_010910.pdf'}\n",
            "\n",
            "------------------------------\n"
          ]
        }
      ],
      "source": [
        "docs = chroma_db.similarity_search(question_1, k=5)\n",
        "display_similarity_search_results(docs)"
      ]
    },
    {
      "cell_type": "markdown",
      "source": [
        "Now lets use `filter={\"source\":\"filename_1.pdf\"}` in `chroma_db.similarity_search`"
      ],
      "metadata": {
        "id": "ClO8bARngeN5"
      }
    },
    {
      "cell_type": "code",
      "source": [
        "docs = chroma_db.similarity_search(\n",
        "    question_1,\n",
        "    k=5,\n",
        "    filter={\"source\":\"rule_updates.pdf\"}\n",
        ")\n",
        "display_similarity_search_results(docs)"
      ],
      "metadata": {
        "colab": {
          "base_uri": "https://localhost:8080/"
        },
        "id": "78r5Pu4LntnS",
        "outputId": "5dd99c88-0c88-4a87-e528-abf5dfc7033e"
      },
      "execution_count": null,
      "outputs": [
        {
          "output_type": "stream",
          "name": "stdout",
          "text": [
            "doc: sanzione amministrativa del pagamento di una somma da Euro 42,00 a Euro 173,00. La violazione del \n",
            "divieto di circolazione nelle corsie riservate ai mezzi pubblici di trasporto, nelle aree pedonali e \n",
            "metadata: {'page': 8, 'source': 'rule_updates.pdf'}\n",
            "\n",
            "------------------------------\n",
            "doc: pagamento di una somma da euro 167,00 a euro 666,00.  \n",
            "11. Quando lo stesso soggetto sia incorso, in un periodo di due anni, in una delle violazioni di cui al comma \n",
            "10 per almeno due volte, all'ultim\n",
            "metadata: {'page': 19, 'source': 'rule_updates.pdf'}\n",
            "\n",
            "------------------------------\n",
            "doc: pagamento di una somma da euro 26,00 a euro 102,00. La sanzione è da euro 42,00 a euro 173,00 quando \n",
            "si tratta di velocipedi di cu i al comma 6.  \n",
            " \n",
            "Articolo 201  \n",
            "(Notificazione delle violazioni)  \n",
            "\n",
            "metadata: {'page': 25, 'source': 'rule_updates.pdf'}\n",
            "\n",
            "------------------------------\n",
            "doc: amministrativa pecuniaria è applicata pe r ogni periodo di ventiquattro ore, per il quale si protrae la \n",
            "violazione. Se si tratta di sosta limitata o regolamentata, la sanzione amministrativa è del pa\n",
            "metadata: {'page': 8, 'source': 'rule_updates.pdf'}\n",
            "\n",
            "------------------------------\n",
            "doc: pagamento di una somma da euro 42,00 a euro 173,00. Se la violazione riguarda le disposizioni di cui al \n",
            "comma 6 la sanzione è da euro 26,00 a euro 102,00.  \n",
            "17. Accertate le violazioni di cui ai comm\n",
            "metadata: {'page': 23, 'source': 'rule_updates.pdf'}\n",
            "\n",
            "------------------------------\n"
          ]
        }
      ]
    },
    {
      "cell_type": "markdown",
      "source": [
        "You can use the same filter in our RAG pipeline, as `filter={\"source\":\"filename_1.pdf\"}` parameter. Check how the filter works for several documents"
      ],
      "metadata": {
        "id": "wkU3JjjOgq92"
      }
    },
    {
      "cell_type": "code",
      "source": [
        "rag_chain = setup_rag(filter={\"source\":\"rule_updates.pdf\"}, k=3)"
      ],
      "metadata": {
        "id": "NN3B1tAaZjv_"
      },
      "execution_count": null,
      "outputs": []
    },
    {
      "cell_type": "code",
      "source": [
        "rag_chain.invoke(question_1)"
      ],
      "metadata": {
        "colab": {
          "base_uri": "https://localhost:8080/",
          "height": 35
        },
        "id": "0ZCUTHGhZkmq",
        "outputId": "f0d07480-1774-4024-8e4b-4d2a3754a641"
      },
      "execution_count": null,
      "outputs": [
        {
          "output_type": "execute_result",
          "data": {
            "text/plain": [
              "'The fine for driving in the bus lane is a payment of a sum ranging from euro 83,00 to euro 333,00.'"
            ],
            "application/vnd.google.colaboratory.intrinsic+json": {
              "type": "string"
            }
          },
          "metadata": {},
          "execution_count": 39
        }
      ]
    },
    {
      "cell_type": "code",
      "source": [
        "rag_chain = setup_rag(filter={\"source\":\"codice_010910.pdf\"}, k=3)"
      ],
      "metadata": {
        "id": "ZVTDaGx9p-Bg"
      },
      "execution_count": null,
      "outputs": []
    },
    {
      "cell_type": "code",
      "source": [
        "rag_chain.invoke(question_1)"
      ],
      "metadata": {
        "colab": {
          "base_uri": "https://localhost:8080/",
          "height": 35
        },
        "id": "spP0CVDHxcsu",
        "outputId": "6cfea210-d995-437d-c90b-937b329ece6e"
      },
      "execution_count": null,
      "outputs": [
        {
          "output_type": "execute_result",
          "data": {
            "text/plain": [
              "'The fine for driving in the bus lane is subject to an administrative penalty ranging from €74 to €333.'"
            ],
            "application/vnd.google.colaboratory.intrinsic+json": {
              "type": "string"
            }
          },
          "metadata": {},
          "execution_count": 41
        }
      ]
    },
    {
      "cell_type": "markdown",
      "source": [
        "This look great, but there is a fancier way to use filtering using `SelfQueryRetriever` - the llm will understand what file to use based on names"
      ],
      "metadata": {
        "id": "YmE4E9-ShSJV"
      }
    },
    {
      "cell_type": "code",
      "source": [
        "from langchain.retrievers.self_query.base import SelfQueryRetriever\n",
        "from langchain.chains.query_constructor.base import AttributeInfo"
      ],
      "metadata": {
        "id": "u7UF2ri70ZE6"
      },
      "execution_count": null,
      "outputs": []
    },
    {
      "cell_type": "code",
      "source": [
        "metadata_field_info = [\n",
        "    AttributeInfo(\n",
        "        name=\"source\",\n",
        "        description=\"The pdf document, for example, `rule_updates.pdf`, `codice_010910` or `settestrade.pdf`\",\n",
        "        type=\"string\",\n",
        "    ),\n",
        "    AttributeInfo(\n",
        "        name=\"page\",\n",
        "        description=\"The page from the pdf document\",\n",
        "        type=\"integer\",\n",
        "    ),\n",
        "]"
      ],
      "metadata": {
        "id": "ZuBO4tst0Z9P"
      },
      "execution_count": null,
      "outputs": []
    },
    {
      "cell_type": "code",
      "source": [
        "document_content_description = \"Road-related pdf documents\"\n",
        "retriever = SelfQueryRetriever.from_llm(\n",
        "    llm,\n",
        "    chroma_db,\n",
        "    document_content_description,\n",
        "    metadata_field_info,\n",
        "    verbose=True\n",
        ")"
      ],
      "metadata": {
        "id": "asjfM5494YX7"
      },
      "execution_count": null,
      "outputs": []
    },
    {
      "cell_type": "code",
      "source": [
        "question_1_plus = question_1 + \"from the updated rules document\""
      ],
      "metadata": {
        "id": "EWejJ-KH5kXX"
      },
      "execution_count": null,
      "outputs": []
    },
    {
      "cell_type": "code",
      "source": [
        "docs = retriever.get_relevant_documents(question_1_plus)\n",
        "display_similarity_search_results(docs)"
      ],
      "metadata": {
        "colab": {
          "base_uri": "https://localhost:8080/"
        },
        "id": "muhLEIT8439F",
        "outputId": "16e0dd23-5d90-458d-d9ae-b56405cddc7c"
      },
      "execution_count": null,
      "outputs": [
        {
          "output_type": "stream",
          "name": "stderr",
          "text": [
            "/usr/local/lib/python3.10/dist-packages/langchain_core/_api/deprecation.py:119: LangChainDeprecationWarning: The method `BaseRetriever.get_relevant_documents` was deprecated in langchain-core 0.1.46 and will be removed in 0.3.0. Use invoke instead.\n",
            "  warn_deprecated(\n"
          ]
        },
        {
          "output_type": "stream",
          "name": "stdout",
          "text": [
            "doc: sanzione amministrativa del pagamento di una somma da Euro 42,00 a Euro 173,00. La violazione del \n",
            "divieto di circolazione nelle corsie riservate ai mezzi pubblici di trasporto, nelle aree pedonali e \n",
            "metadata: {'page': 8, 'source': 'rule_updates.pdf'}\n",
            "\n",
            "------------------------------\n",
            "doc: sanz ione amministrativa pecuniaria.  \n",
            "5. L'obbligo di pagare la somma dovuta per la violazione, a titolo di sanzione amministrativa pecuniaria, si \n",
            "estingue nei confronti del soggetto a cui la notifi\n",
            "metadata: {'page': 27, 'source': 'rule_updates.pdf'}\n",
            "\n",
            "------------------------------\n",
            "doc: pagamento di una somma da euro 167,00 a euro 666,00.  \n",
            "11. Quando lo stesso soggetto sia incorso, in un periodo di due anni, in una delle violazioni di cui al comma \n",
            "10 per almeno due volte, all'ultim\n",
            "metadata: {'page': 19, 'source': 'rule_updates.pdf'}\n",
            "\n",
            "------------------------------\n",
            "doc: pagamento di una somma da euro 42,00 a euro 173,00. Se la violazione riguarda le disposizioni di cui al \n",
            "comma 6 la sanzione è da euro 26,00 a euro 102,00.  \n",
            "17. Accertate le violazioni di cui ai comm\n",
            "metadata: {'page': 23, 'source': 'rule_updates.pdf'}\n",
            "\n",
            "------------------------------\n"
          ]
        }
      ]
    },
    {
      "cell_type": "code",
      "source": [],
      "metadata": {
        "id": "iIACbLKUZFyx"
      },
      "execution_count": null,
      "outputs": []
    }
  ],
  "metadata": {
    "colab": {
      "provenance": []
    },
    "kernelspec": {
      "display_name": "Python 3 (ipykernel)",
      "language": "python",
      "name": "python3"
    },
    "language_info": {
      "codemirror_mode": {
        "name": "ipython",
        "version": 3
      },
      "file_extension": ".py",
      "mimetype": "text/x-python",
      "name": "python",
      "nbconvert_exporter": "python",
      "pygments_lexer": "ipython3",
      "version": "3.10.12"
    }
  },
  "nbformat": 4,
  "nbformat_minor": 0
}