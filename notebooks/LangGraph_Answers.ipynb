{
  "nbformat": 4,
  "nbformat_minor": 0,
  "metadata": {
    "colab": {
      "provenance": []
    },
    "kernelspec": {
      "name": "python3",
      "display_name": "Python 3"
    },
    "language_info": {
      "name": "python"
    }
  },
  "cells": [
    {
      "cell_type": "markdown",
      "source": [
        "# LangGraph with Stock Data Analysis: Answers\n",
        "\n",
        "This notebook demonstrates how to use `langgraph` and `langchain` to create a workflow for retrieving and analyzing stock data using the `yfinance` library and OpenAI's GPT-3.5-turbo model.\n",
        "\n"
      ],
      "metadata": {
        "id": "9gonIJaWqWY5"
      }
    },
    {
      "cell_type": "markdown",
      "source": [
        "[![Open In Colab](https://colab.research.google.com/assets/colab-badge.svg)](https://colab.research.google.com/drive/1fiaWf3iirzyDb8QypWDSZWN1xWPTuJVL?usp=sharing)"
      ],
      "metadata": {
        "id": "U31N3bxFqWY6"
      }
    },
    {
      "cell_type": "markdown",
      "source": [
        "## Installation\n",
        "\n",
        "First, we need to install the necessary packages:"
      ],
      "metadata": {
        "id": "ny5ficrUn86a"
      }
    },
    {
      "cell_type": "code",
      "execution_count": null,
      "metadata": {
        "id": "GcvSoNAmVbXH",
        "colab": {
          "base_uri": "https://localhost:8080/"
        },
        "outputId": "22de61cd-f66e-499f-b79c-d2af14c7a0af"
      },
      "outputs": [
        {
          "output_type": "stream",
          "name": "stdout",
          "text": [
            "\u001b[2K     \u001b[90m━━━━━━━━━━━━━━━━━━━━━━━━━━━━━━━━━━━━━━━━\u001b[0m \u001b[32m84.3/84.3 kB\u001b[0m \u001b[31m1.7 MB/s\u001b[0m eta \u001b[36m0:00:00\u001b[0m\n",
            "\u001b[2K     \u001b[90m━━━━━━━━━━━━━━━━━━━━━━━━━━━━━━━━━━━━━━━━\u001b[0m \u001b[32m973.5/973.5 kB\u001b[0m \u001b[31m8.7 MB/s\u001b[0m eta \u001b[36m0:00:00\u001b[0m\n",
            "\u001b[2K     \u001b[90m━━━━━━━━━━━━━━━━━━━━━━━━━━━━━━━━━━━━━━━━\u001b[0m \u001b[32m309.5/309.5 kB\u001b[0m \u001b[31m10.4 MB/s\u001b[0m eta \u001b[36m0:00:00\u001b[0m\n",
            "\u001b[2K     \u001b[90m━━━━━━━━━━━━━━━━━━━━━━━━━━━━━━━━━━━━━━━━\u001b[0m \u001b[32m122.8/122.8 kB\u001b[0m \u001b[31m8.3 MB/s\u001b[0m eta \u001b[36m0:00:00\u001b[0m\n",
            "\u001b[2K     \u001b[90m━━━━━━━━━━━━━━━━━━━━━━━━━━━━━━━━━━━━━━━━\u001b[0m \u001b[32m320.7/320.7 kB\u001b[0m \u001b[31m13.4 MB/s\u001b[0m eta \u001b[36m0:00:00\u001b[0m\n",
            "\u001b[2K     \u001b[90m━━━━━━━━━━━━━━━━━━━━━━━━━━━━━━━━━━━━━━━━\u001b[0m \u001b[32m1.1/1.1 MB\u001b[0m \u001b[31m21.9 MB/s\u001b[0m eta \u001b[36m0:00:00\u001b[0m\n",
            "\u001b[2K     \u001b[90m━━━━━━━━━━━━━━━━━━━━━━━━━━━━━━━━━━━━━━━━\u001b[0m \u001b[32m53.0/53.0 kB\u001b[0m \u001b[31m2.2 MB/s\u001b[0m eta \u001b[36m0:00:00\u001b[0m\n",
            "\u001b[2K     \u001b[90m━━━━━━━━━━━━━━━━━━━━━━━━━━━━━━━━━━━━━━━━\u001b[0m \u001b[32m142.5/142.5 kB\u001b[0m \u001b[31m1.3 MB/s\u001b[0m eta \u001b[36m0:00:00\u001b[0m\n",
            "\u001b[2K     \u001b[90m━━━━━━━━━━━━━━━━━━━━━━━━━━━━━━━━━━━━━━━━\u001b[0m \u001b[32m75.6/75.6 kB\u001b[0m \u001b[31m4.9 MB/s\u001b[0m eta \u001b[36m0:00:00\u001b[0m\n",
            "\u001b[2K     \u001b[90m━━━━━━━━━━━━━━━━━━━━━━━━━━━━━━━━━━━━━━━━\u001b[0m \u001b[32m77.9/77.9 kB\u001b[0m \u001b[31m3.9 MB/s\u001b[0m eta \u001b[36m0:00:00\u001b[0m\n",
            "\u001b[2K     \u001b[90m━━━━━━━━━━━━━━━━━━━━━━━━━━━━━━━━━━━━━━━━\u001b[0m \u001b[32m58.3/58.3 kB\u001b[0m \u001b[31m5.0 MB/s\u001b[0m eta \u001b[36m0:00:00\u001b[0m\n",
            "\u001b[?25h"
          ]
        }
      ],
      "source": [
        "!pip install -q langgraph langchain langchain_openai langchainhub yfinance"
      ]
    },
    {
      "cell_type": "code",
      "source": [
        "!pip freeze | grep \"lang\\|openai\\|yfinance\""
      ],
      "metadata": {
        "id": "-Jswpd76oQwi",
        "colab": {
          "base_uri": "https://localhost:8080/"
        },
        "outputId": "d5276344-c88f-44be-bd05-cb4edf693f63"
      },
      "execution_count": null,
      "outputs": [
        {
          "output_type": "stream",
          "name": "stdout",
          "text": [
            "google-ai-generativelanguage==0.6.4\n",
            "google-cloud-language==2.13.3\n",
            "langchain==0.2.1\n",
            "langchain-core==0.2.2\n",
            "langchain-openai==0.1.8\n",
            "langchain-text-splitters==0.2.0\n",
            "langchainhub==0.1.17\n",
            "langcodes==3.4.0\n",
            "langgraph==0.0.57\n",
            "langsmith==0.1.63\n",
            "language_data==1.2.0\n",
            "libclang==18.1.1\n",
            "openai==1.30.5\n",
            "yfinance==0.2.40\n"
          ]
        }
      ]
    },
    {
      "cell_type": "code",
      "source": [
        "from google.colab import userdata\n",
        "import os\n",
        "\n",
        "# Set your OpenAI API key\n",
        "os.environ[\"OPENAI_API_KEY\"] = userdata.get(\"OPENAI_API_KEY\")"
      ],
      "metadata": {
        "id": "aw9453mxY2GZ"
      },
      "execution_count": null,
      "outputs": []
    },
    {
      "cell_type": "markdown",
      "source": [
        "## Tool Definitions\n",
        "We define tools for retrieving current stock information, historical data, and corporate actions using the `yfinance` library."
      ],
      "metadata": {
        "id": "UZ6IJrLkpBn-"
      }
    },
    {
      "cell_type": "code",
      "source": [
        "# Documentation\n",
        "# https://pypi.org/project/yfinance/"
      ],
      "metadata": {
        "id": "3sfmkJ7TPObi"
      },
      "execution_count": null,
      "outputs": []
    },
    {
      "cell_type": "code",
      "source": [
        "from langchain import hub\n",
        "from langchain.agents import create_openai_functions_agent\n",
        "from langchain_openai.chat_models import ChatOpenAI\n",
        "from langchain.tools import tool\n",
        "from langchain_core.messages import BaseMessage, HumanMessage\n",
        "import yfinance as yf\n",
        "\n",
        "@tool(\"get_current_info\")\n",
        "def get_current_info(name):\n",
        "    \"\"\"\n",
        "    Retrieves the current information of a specified stock.\n",
        "    If user asks about the current stock price - this is the tool to be called\n",
        "\n",
        "    Args:\n",
        "        name (str): The ticker symbol of the stock (e.g., 'AAPL' for Apple Inc.).\n",
        "\n",
        "    Returns:\n",
        "        dict: A dictionary containing various details about the stock, including\n",
        "              company information, market data, financials, and more.\n",
        "    \"\"\"\n",
        "    stock = yf.Ticker(name)\n",
        "    return stock.info\n",
        "\n",
        "@tool(\"get_history\")\n",
        "def get_history(name, period=\"1mo\"):\n",
        "    \"\"\"\n",
        "    Retrieves the historical market data for a specified stock over a given period.\n",
        "\n",
        "    Args:\n",
        "        name (str): The ticker symbol of the stock (e.g., 'AAPL' for Apple Inc.).\n",
        "        period (str, optional): The period over which to retrieve historical data.\n",
        "                                Default is '1mo'. Other options include '1d', '5d', '1mo',\n",
        "                                '3mo', '6mo', '1y', '2y', '5y', '10y', and 'max'.\n",
        "\n",
        "    Returns:\n",
        "        pandas.DataFrame: A DataFrame containing historical market data for the specified stock,\n",
        "                          including columns such as 'Open', 'High', 'Low', 'Close', 'Volume', etc.\n",
        "    \"\"\"\n",
        "    stock = yf.Ticker(name)\n",
        "    return stock.history(period=period)\n",
        "\n",
        "@tool(\"get_actions\")\n",
        "def get_actions(name):\n",
        "    \"\"\"\n",
        "    Retrieves corporate actions (e.g., dividends, splits) for a specified stock.\n",
        "\n",
        "    Args:\n",
        "        name (str): The ticker symbol of the stock (e.g., 'AAPL' for Apple Inc.).\n",
        "\n",
        "    Returns:\n",
        "        pandas.DataFrame: A DataFrame containing corporate actions for the specified stock,\n",
        "                          including columns such as 'Date', 'Dividends', 'Stock Splits', etc.\n",
        "    \"\"\"\n",
        "    stock = yf.Ticker(name)\n",
        "    return stock.actions"
      ],
      "metadata": {
        "id": "mczr2sUEVdYv"
      },
      "execution_count": null,
      "outputs": []
    },
    {
      "cell_type": "markdown",
      "source": [
        "## Creating the Agent\n",
        "We create an agent using `langchain` to handle stock-related queries."
      ],
      "metadata": {
        "id": "IOk3eBqqpJZu"
      }
    },
    {
      "cell_type": "code",
      "source": [
        "# Choose the LLM that will drive the agent\n",
        "llm = ChatOpenAI(model=\"gpt-3.5-turbo\")\n",
        "\n",
        "# Get the prompt to use (default)\n",
        "prompt = hub.pull(\"hwchase17/openai-functions-agent\")\n",
        "\n",
        "tools = [get_current_info, get_history, get_actions]\n",
        "agent_runnable = create_openai_functions_agent(llm, tools, prompt)"
      ],
      "metadata": {
        "id": "lObh14BsZm2A"
      },
      "execution_count": null,
      "outputs": []
    },
    {
      "cell_type": "markdown",
      "source": [
        "## Defining the Workflow\n",
        "We define the workflow using langgraph.\n",
        "\n",
        "### Define the Agent\n",
        "We define the agent and the function to execute tools."
      ],
      "metadata": {
        "id": "GnWxIkyxpOks"
      }
    },
    {
      "cell_type": "code",
      "source": [
        "from langchain_core.runnables import RunnablePassthrough\n",
        "from langchain_core.agents import AgentFinish\n",
        "\n",
        "# Define the agent\n",
        "agent = RunnablePassthrough.assign(\n",
        "    agent_outcome = agent_runnable\n",
        ")\n",
        "\n",
        "# Define the function to execute tools\n",
        "def execute_tools(data):\n",
        "    agent_action = data.pop('agent_outcome')\n",
        "    tool_to_use = {t.name: t for t in tools}[agent_action.tool]\n",
        "    observation = tool_to_use.invoke(agent_action.tool_input)\n",
        "    data['intermediate_steps'].append((agent_action, observation))\n",
        "    return data\n",
        "\n",
        "# Define logic that will be used to determine which conditional edge to go down\n",
        "def should_continue(data):\n",
        "    if isinstance(data['agent_outcome'], AgentFinish):\n",
        "        return \"exit\"\n",
        "    else:\n",
        "        return \"continue\""
      ],
      "metadata": {
        "id": "EGDFQAgJpf64"
      },
      "execution_count": null,
      "outputs": []
    },
    {
      "cell_type": "markdown",
      "source": [
        "### Creating the Workflow Graph\n",
        "We create the workflow graph and compile it into a LangChain Runnable."
      ],
      "metadata": {
        "id": "bFKne3Thplzd"
      }
    },
    {
      "cell_type": "code",
      "source": [
        "from langgraph.graph import END, Graph\n",
        "\n",
        "workflow = Graph()\n",
        "\n",
        "workflow.add_node(\"agent\", agent)\n",
        "workflow.add_node(\"tools_executor\", execute_tools)\n",
        "\n",
        "# Set the entrypoint as `agent`\n",
        "workflow.set_entry_point(\"agent\")\n",
        "\n",
        "workflow.add_conditional_edges(\n",
        "    \"agent\",\n",
        "    should_continue,\n",
        "    {\n",
        "        \"continue\": \"tools_executor\",\n",
        "        \"exit\": END\n",
        "    }\n",
        ")\n",
        "workflow.add_edge('tools_executor', 'agent')\n",
        "\n",
        "\n",
        "\n",
        "# This compiles it into a LangChain Runnable,\n",
        "# meaning we can use it as you would any other runnable\n",
        "graph = workflow.compile()"
      ],
      "metadata": {
        "id": "xK5euZ6UWAhq"
      },
      "execution_count": null,
      "outputs": []
    },
    {
      "cell_type": "code",
      "source": [
        "from IPython.display import Image, display\n",
        "display(Image(graph.get_graph(xray=True).draw_mermaid_png()))"
      ],
      "metadata": {
        "colab": {
          "base_uri": "https://localhost:8080/",
          "height": 842
        },
        "id": "Y0OK4I-8Z2mu",
        "outputId": "865beea4-ff9e-4070-c852-6f6d85e1494b"
      },
      "execution_count": null,
      "outputs": [
        {
          "output_type": "display_data",
          "data": {
            "image/jpeg": "[encoded data removed]",
            "text/plain": [
              "<IPython.core.display.Image object>"
            ]
          },
          "metadata": {}
        }
      ]
    },
    {
      "cell_type": "markdown",
      "source": [
        "## Running the Workflow\n",
        "We run the workflow with sample queries and compare the results with baseline answers."
      ],
      "metadata": {
        "id": "SHsBQjHYpzbZ"
      }
    },
    {
      "cell_type": "code",
      "source": [
        "query = \"What is the latest stock price for AAPL, MSFT, and GOOG?\""
      ],
      "metadata": {
        "id": "vbnGGObXULo_"
      },
      "execution_count": null,
      "outputs": []
    },
    {
      "cell_type": "code",
      "source": [
        "inputs = {\"input\": query,\"intermediate_steps\": [],\"recursion_limit\": 150}\n",
        "\n",
        "for s in graph.stream(inputs):\n",
        "    try:\n",
        "        print(s['agent']['input'])\n",
        "        print(s['agent']['agent_outcome'])\n",
        "        print(\"----\")\n",
        "    except Exception as e:\n",
        "        print(e)"
      ],
      "metadata": {
        "colab": {
          "base_uri": "https://localhost:8080/"
        },
        "id": "FFLcnaHQT9Um",
        "outputId": "6fd1211a-6dca-4bc5-9db8-b44d139b85dd"
      },
      "execution_count": null,
      "outputs": [
        {
          "output_type": "stream",
          "name": "stdout",
          "text": [
            "What is the latest stock price for AAPL, MSFT, and GOOG?\n",
            "tool='get_current_info' tool_input={'name': 'AAPL'} log=\"\\nInvoking: `get_current_info` with `{'name': 'AAPL'}`\\n\\n\\n\" message_log=[AIMessage(content='', additional_kwargs={'function_call': {'arguments': '{\"name\":\"AAPL\"}', 'name': 'get_current_info'}}, response_metadata={'token_usage': {'completion_tokens': 16, 'prompt_tokens': 422, 'total_tokens': 438}, 'model_name': 'gpt-3.5-turbo', 'system_fingerprint': None, 'finish_reason': 'function_call', 'logprobs': None}, id='run-10862681-7367-47bb-a2ab-d58df9d69dc9-0', usage_metadata={'input_tokens': 422, 'output_tokens': 16, 'total_tokens': 438})]\n",
            "----\n",
            "'agent'\n",
            "What is the latest stock price for AAPL, MSFT, and GOOG?\n",
            "tool='get_current_info' tool_input={'name': 'MSFT'} log=\"\\nInvoking: `get_current_info` with `{'name': 'MSFT'}`\\n\\n\\n\" message_log=[AIMessage(content='', additional_kwargs={'function_call': {'arguments': '{\"name\":\"MSFT\"}', 'name': 'get_current_info'}}, response_metadata={'token_usage': {'completion_tokens': 16, 'prompt_tokens': 2792, 'total_tokens': 2808}, 'model_name': 'gpt-3.5-turbo', 'system_fingerprint': None, 'finish_reason': 'function_call', 'logprobs': None}, id='run-5e06d4c9-db33-42cf-ac73-e106ec4bf59c-0', usage_metadata={'input_tokens': 2792, 'output_tokens': 16, 'total_tokens': 2808})]\n",
            "----\n",
            "'agent'\n",
            "What is the latest stock price for AAPL, MSFT, and GOOG?\n",
            "tool='get_current_info' tool_input={'name': 'GOOG'} log=\"\\nInvoking: `get_current_info` with `{'name': 'GOOG'}`\\n\\n\\n\" message_log=[AIMessage(content='', additional_kwargs={'function_call': {'arguments': '{\"name\":\"GOOG\"}', 'name': 'get_current_info'}}, response_metadata={'token_usage': {'completion_tokens': 16, 'prompt_tokens': 5260, 'total_tokens': 5276}, 'model_name': 'gpt-3.5-turbo', 'system_fingerprint': None, 'finish_reason': 'function_call', 'logprobs': None}, id='run-ea28002f-5bfc-4a75-a92b-5f43e863258e-0', usage_metadata={'input_tokens': 5260, 'output_tokens': 16, 'total_tokens': 5276})]\n",
            "----\n",
            "'agent'\n",
            "What is the latest stock price for AAPL, MSFT, and GOOG?\n",
            "return_values={'output': 'The latest stock prices for AAPL (Apple Inc.), MSFT (Microsoft Corporation), and GOOG (Alphabet Inc.) are as follows:\\n- AAPL (Apple Inc.): $190.29\\n- MSFT (Microsoft Corporation): $429.17\\n- GOOG (Alphabet Inc.): $177.4\\n\\nIf you would like more information or historical data for any of these stocks, feel free to ask!'} log='The latest stock prices for AAPL (Apple Inc.), MSFT (Microsoft Corporation), and GOOG (Alphabet Inc.) are as follows:\\n- AAPL (Apple Inc.): $190.29\\n- MSFT (Microsoft Corporation): $429.17\\n- GOOG (Alphabet Inc.): $177.4\\n\\nIf you would like more information or historical data for any of these stocks, feel free to ask!'\n",
            "----\n"
          ]
        }
      ]
    },
    {
      "cell_type": "code",
      "source": [
        "# baseline answer\n",
        "companies = 'msft aapl goog'\n",
        "tickers = yf.Tickers(companies)\n",
        "for x in companies.split(\" \"):\n",
        "    print(x, tickers.tickers[x.upper()].info['currentPrice'])"
      ],
      "metadata": {
        "colab": {
          "base_uri": "https://localhost:8080/"
        },
        "id": "VPPcwGpGdEAT",
        "outputId": "2d9df1ef-e06b-42f4-cbc9-803ec0895453"
      },
      "execution_count": null,
      "outputs": [
        {
          "output_type": "stream",
          "name": "stdout",
          "text": [
            "msft 429.17\n",
            "aapl 190.29\n",
            "goog 177.4\n"
          ]
        }
      ]
    },
    {
      "cell_type": "code",
      "source": [
        "result = graph.invoke({\"input\": query, \"intermediate_steps\": []})\n",
        "output = result['agent_outcome'].return_values[\"output\"]\n",
        "print(output)"
      ],
      "metadata": {
        "id": "kBwr25yAWDVB",
        "colab": {
          "base_uri": "https://localhost:8080/"
        },
        "outputId": "11adafe3-c9c0-4d23-c729-7a45cee07a0c"
      },
      "execution_count": null,
      "outputs": [
        {
          "output_type": "stream",
          "name": "stdout",
          "text": [
            "The latest stock prices for AAPL, MSFT, and GOOG are as follows:\n",
            "- Apple Inc. (AAPL): $190.29\n",
            "- Microsoft Corporation (MSFT): $429.17\n",
            "- Alphabet Inc. (GOOG): $177.40\n",
            "\n",
            "If you need more information or details, feel free to ask!\n"
          ]
        }
      ]
    },
    {
      "cell_type": "code",
      "source": [
        "query = \"What was the highest closing price of Apple stock in the last 4 weeks?\""
      ],
      "metadata": {
        "id": "7XeJKNsn9YWG"
      },
      "execution_count": null,
      "outputs": []
    },
    {
      "cell_type": "code",
      "source": [
        "result = graph.invoke({\"input\": query, \"intermediate_steps\": []})\n",
        "output = result['agent_outcome'].return_values[\"output\"]\n",
        "print(output)"
      ],
      "metadata": {
        "colab": {
          "base_uri": "https://localhost:8080/"
        },
        "id": "wJgPnib_UZ9r",
        "outputId": "347362c2-843c-4690-da39-c5586b989487"
      },
      "execution_count": null,
      "outputs": [
        {
          "output_type": "stream",
          "name": "stdout",
          "text": [
            "The highest closing price of Apple stock in the last 4 weeks was $192.35.\n"
          ]
        }
      ]
    },
    {
      "cell_type": "code",
      "source": [
        "# baseline answer\n",
        "tickers.tickers['AAPL'].history(period=\"3mo\").iloc[-35:].sort_values(['Close'], ascending=False).head(3)"
      ],
      "metadata": {
        "colab": {
          "base_uri": "https://localhost:8080/",
          "height": 175
        },
        "id": "EqJhXy2GdLff",
        "outputId": "eb4f459c-c348-496c-ec62-119e0d4f2a4e"
      },
      "execution_count": null,
      "outputs": [
        {
          "output_type": "execute_result",
          "data": {
            "text/plain": [
              "                                 Open        High         Low       Close  \\\n",
              "Date                                                                        \n",
              "2024-05-21 00:00:00-04:00  191.089996  192.729996  190.919998  192.350006   \n",
              "2024-05-20 00:00:00-04:00  189.330002  191.919998  189.009995  191.039993   \n",
              "2024-05-22 00:00:00-04:00  192.270004  192.820007  190.270004  190.899994   \n",
              "\n",
              "                             Volume  Dividends  Stock Splits  \n",
              "Date                                                          \n",
              "2024-05-21 00:00:00-04:00  42309400        0.0           0.0  \n",
              "2024-05-20 00:00:00-04:00  44361300        0.0           0.0  \n",
              "2024-05-22 00:00:00-04:00  34648500        0.0           0.0  "
            ],
            "text/html": [
              "\n",
              "  <div id=\"df-94edb556-5858-4d06-9ebf-ac159088e0e4\" class=\"colab-df-container\">\n",
              "    <div>\n",
              "<style scoped>\n",
              "    .dataframe tbody tr th:only-of-type {\n",
              "        vertical-align: middle;\n",
              "    }\n",
              "\n",
              "    .dataframe tbody tr th {\n",
              "        vertical-align: top;\n",
              "    }\n",
              "\n",
              "    .dataframe thead th {\n",
              "        text-align: right;\n",
              "    }\n",
              "</style>\n",
              "<table border=\"1\" class=\"dataframe\">\n",
              "  <thead>\n",
              "    <tr style=\"text-align: right;\">\n",
              "      <th></th>\n",
              "      <th>Open</th>\n",
              "      <th>High</th>\n",
              "      <th>Low</th>\n",
              "      <th>Close</th>\n",
              "      <th>Volume</th>\n",
              "      <th>Dividends</th>\n",
              "      <th>Stock Splits</th>\n",
              "    </tr>\n",
              "    <tr>\n",
              "      <th>Date</th>\n",
              "      <th></th>\n",
              "      <th></th>\n",
              "      <th></th>\n",
              "      <th></th>\n",
              "      <th></th>\n",
              "      <th></th>\n",
              "      <th></th>\n",
              "    </tr>\n",
              "  </thead>\n",
              "  <tbody>\n",
              "    <tr>\n",
              "      <th>2024-05-21 00:00:00-04:00</th>\n",
              "      <td>191.089996</td>\n",
              "      <td>192.729996</td>\n",
              "      <td>190.919998</td>\n",
              "      <td>192.350006</td>\n",
              "      <td>42309400</td>\n",
              "      <td>0.0</td>\n",
              "      <td>0.0</td>\n",
              "    </tr>\n",
              "    <tr>\n",
              "      <th>2024-05-20 00:00:00-04:00</th>\n",
              "      <td>189.330002</td>\n",
              "      <td>191.919998</td>\n",
              "      <td>189.009995</td>\n",
              "      <td>191.039993</td>\n",
              "      <td>44361300</td>\n",
              "      <td>0.0</td>\n",
              "      <td>0.0</td>\n",
              "    </tr>\n",
              "    <tr>\n",
              "      <th>2024-05-22 00:00:00-04:00</th>\n",
              "      <td>192.270004</td>\n",
              "      <td>192.820007</td>\n",
              "      <td>190.270004</td>\n",
              "      <td>190.899994</td>\n",
              "      <td>34648500</td>\n",
              "      <td>0.0</td>\n",
              "      <td>0.0</td>\n",
              "    </tr>\n",
              "  </tbody>\n",
              "</table>\n",
              "</div>\n",
              "    <div class=\"colab-df-buttons\">\n",
              "\n",
              "  <div class=\"colab-df-container\">\n",
              "    <button class=\"colab-df-convert\" onclick=\"convertToInteractive('df-94edb556-5858-4d06-9ebf-ac159088e0e4')\"\n",
              "            title=\"Convert this dataframe to an interactive table.\"\n",
              "            style=\"display:none;\">\n",
              "\n",
              "  <svg xmlns=\"http://www.w3.org/2000/svg\" height=\"24px\" viewBox=\"0 -960 960 960\">\n",
              "    <path d=\"M120-120v-720h720v720H120Zm60-500h600v-160H180v160Zm220 220h160v-160H400v160Zm0 220h160v-160H400v160ZM180-400h160v-160H180v160Zm440 0h160v-160H620v160ZM180-180h160v-160H180v160Zm440 0h160v-160H620v160Z\"/>\n",
              "  </svg>\n",
              "    </button>\n",
              "\n",
              "  <style>\n",
              "    .colab-df-container {\n",
              "      display:flex;\n",
              "      gap: 12px;\n",
              "    }\n",
              "\n",
              "    .colab-df-convert {\n",
              "      background-color: #E8F0FE;\n",
              "      border: none;\n",
              "      border-radius: 50%;\n",
              "      cursor: pointer;\n",
              "      display: none;\n",
              "      fill: #1967D2;\n",
              "      height: 32px;\n",
              "      padding: 0 0 0 0;\n",
              "      width: 32px;\n",
              "    }\n",
              "\n",
              "    .colab-df-convert:hover {\n",
              "      background-color: #E2EBFA;\n",
              "      box-shadow: 0px 1px 2px rgba(60, 64, 67, 0.3), 0px 1px 3px 1px rgba(60, 64, 67, 0.15);\n",
              "      fill: #174EA6;\n",
              "    }\n",
              "\n",
              "    .colab-df-buttons div {\n",
              "      margin-bottom: 4px;\n",
              "    }\n",
              "\n",
              "    [theme=dark] .colab-df-convert {\n",
              "      background-color: #3B4455;\n",
              "      fill: #D2E3FC;\n",
              "    }\n",
              "\n",
              "    [theme=dark] .colab-df-convert:hover {\n",
              "      background-color: #434B5C;\n",
              "      box-shadow: 0px 1px 3px 1px rgba(0, 0, 0, 0.15);\n",
              "      filter: drop-shadow(0px 1px 2px rgba(0, 0, 0, 0.3));\n",
              "      fill: #FFFFFF;\n",
              "    }\n",
              "  </style>\n",
              "\n",
              "    <script>\n",
              "      const buttonEl =\n",
              "        document.querySelector('#df-94edb556-5858-4d06-9ebf-ac159088e0e4 button.colab-df-convert');\n",
              "      buttonEl.style.display =\n",
              "        google.colab.kernel.accessAllowed ? 'block' : 'none';\n",
              "\n",
              "      async function convertToInteractive(key) {\n",
              "        const element = document.querySelector('#df-94edb556-5858-4d06-9ebf-ac159088e0e4');\n",
              "        const dataTable =\n",
              "          await google.colab.kernel.invokeFunction('convertToInteractive',\n",
              "                                                    [key], {});\n",
              "        if (!dataTable) return;\n",
              "\n",
              "        const docLinkHtml = 'Like what you see? Visit the ' +\n",
              "          '<a target=\"_blank\" href=https://colab.research.google.com/notebooks/data_table.ipynb>data table notebook</a>'\n",
              "          + ' to learn more about interactive tables.';\n",
              "        element.innerHTML = '';\n",
              "        dataTable['output_type'] = 'display_data';\n",
              "        await google.colab.output.renderOutput(dataTable, element);\n",
              "        const docLink = document.createElement('div');\n",
              "        docLink.innerHTML = docLinkHtml;\n",
              "        element.appendChild(docLink);\n",
              "      }\n",
              "    </script>\n",
              "  </div>\n",
              "\n",
              "\n",
              "<div id=\"df-0c6abdc6-b3ae-4efa-b284-3ba977533a84\">\n",
              "  <button class=\"colab-df-quickchart\" onclick=\"quickchart('df-0c6abdc6-b3ae-4efa-b284-3ba977533a84')\"\n",
              "            title=\"Suggest charts\"\n",
              "            style=\"display:none;\">\n",
              "\n",
              "<svg xmlns=\"http://www.w3.org/2000/svg\" height=\"24px\"viewBox=\"0 0 24 24\"\n",
              "     width=\"24px\">\n",
              "    <g>\n",
              "        <path d=\"M19 3H5c-1.1 0-2 .9-2 2v14c0 1.1.9 2 2 2h14c1.1 0 2-.9 2-2V5c0-1.1-.9-2-2-2zM9 17H7v-7h2v7zm4 0h-2V7h2v10zm4 0h-2v-4h2v4z\"/>\n",
              "    </g>\n",
              "</svg>\n",
              "  </button>\n",
              "\n",
              "<style>\n",
              "  .colab-df-quickchart {\n",
              "      --bg-color: #E8F0FE;\n",
              "      --fill-color: #1967D2;\n",
              "      --hover-bg-color: #E2EBFA;\n",
              "      --hover-fill-color: #174EA6;\n",
              "      --disabled-fill-color: #AAA;\n",
              "      --disabled-bg-color: #DDD;\n",
              "  }\n",
              "\n",
              "  [theme=dark] .colab-df-quickchart {\n",
              "      --bg-color: #3B4455;\n",
              "      --fill-color: #D2E3FC;\n",
              "      --hover-bg-color: #434B5C;\n",
              "      --hover-fill-color: #FFFFFF;\n",
              "      --disabled-bg-color: #3B4455;\n",
              "      --disabled-fill-color: #666;\n",
              "  }\n",
              "\n",
              "  .colab-df-quickchart {\n",
              "    background-color: var(--bg-color);\n",
              "    border: none;\n",
              "    border-radius: 50%;\n",
              "    cursor: pointer;\n",
              "    display: none;\n",
              "    fill: var(--fill-color);\n",
              "    height: 32px;\n",
              "    padding: 0;\n",
              "    width: 32px;\n",
              "  }\n",
              "\n",
              "  .colab-df-quickchart:hover {\n",
              "    background-color: var(--hover-bg-color);\n",
              "    box-shadow: 0 1px 2px rgba(60, 64, 67, 0.3), 0 1px 3px 1px rgba(60, 64, 67, 0.15);\n",
              "    fill: var(--button-hover-fill-color);\n",
              "  }\n",
              "\n",
              "  .colab-df-quickchart-complete:disabled,\n",
              "  .colab-df-quickchart-complete:disabled:hover {\n",
              "    background-color: var(--disabled-bg-color);\n",
              "    fill: var(--disabled-fill-color);\n",
              "    box-shadow: none;\n",
              "  }\n",
              "\n",
              "  .colab-df-spinner {\n",
              "    border: 2px solid var(--fill-color);\n",
              "    border-color: transparent;\n",
              "    border-bottom-color: var(--fill-color);\n",
              "    animation:\n",
              "      spin 1s steps(1) infinite;\n",
              "  }\n",
              "\n",
              "  @keyframes spin {\n",
              "    0% {\n",
              "      border-color: transparent;\n",
              "      border-bottom-color: var(--fill-color);\n",
              "      border-left-color: var(--fill-color);\n",
              "    }\n",
              "    20% {\n",
              "      border-color: transparent;\n",
              "      border-left-color: var(--fill-color);\n",
              "      border-top-color: var(--fill-color);\n",
              "    }\n",
              "    30% {\n",
              "      border-color: transparent;\n",
              "      border-left-color: var(--fill-color);\n",
              "      border-top-color: var(--fill-color);\n",
              "      border-right-color: var(--fill-color);\n",
              "    }\n",
              "    40% {\n",
              "      border-color: transparent;\n",
              "      border-right-color: var(--fill-color);\n",
              "      border-top-color: var(--fill-color);\n",
              "    }\n",
              "    60% {\n",
              "      border-color: transparent;\n",
              "      border-right-color: var(--fill-color);\n",
              "    }\n",
              "    80% {\n",
              "      border-color: transparent;\n",
              "      border-right-color: var(--fill-color);\n",
              "      border-bottom-color: var(--fill-color);\n",
              "    }\n",
              "    90% {\n",
              "      border-color: transparent;\n",
              "      border-bottom-color: var(--fill-color);\n",
              "    }\n",
              "  }\n",
              "</style>\n",
              "\n",
              "  <script>\n",
              "    async function quickchart(key) {\n",
              "      const quickchartButtonEl =\n",
              "        document.querySelector('#' + key + ' button');\n",
              "      quickchartButtonEl.disabled = true;  // To prevent multiple clicks.\n",
              "      quickchartButtonEl.classList.add('colab-df-spinner');\n",
              "      try {\n",
              "        const charts = await google.colab.kernel.invokeFunction(\n",
              "            'suggestCharts', [key], {});\n",
              "      } catch (error) {\n",
              "        console.error('Error during call to suggestCharts:', error);\n",
              "      }\n",
              "      quickchartButtonEl.classList.remove('colab-df-spinner');\n",
              "      quickchartButtonEl.classList.add('colab-df-quickchart-complete');\n",
              "    }\n",
              "    (() => {\n",
              "      let quickchartButtonEl =\n",
              "        document.querySelector('#df-0c6abdc6-b3ae-4efa-b284-3ba977533a84 button');\n",
              "      quickchartButtonEl.style.display =\n",
              "        google.colab.kernel.accessAllowed ? 'block' : 'none';\n",
              "    })();\n",
              "  </script>\n",
              "</div>\n",
              "\n",
              "    </div>\n",
              "  </div>\n"
            ],
            "application/vnd.google.colaboratory.intrinsic+json": {
              "type": "dataframe",
              "summary": "{\n  \"name\": \"tickers\",\n  \"rows\": 3,\n  \"fields\": [\n    {\n      \"column\": \"Date\",\n      \"properties\": {\n        \"dtype\": \"date\",\n        \"min\": \"2024-05-20 00:00:00-04:00\",\n        \"max\": \"2024-05-22 00:00:00-04:00\",\n        \"num_unique_values\": 3,\n        \"samples\": [\n          \"2024-05-21 00:00:00-04:00\",\n          \"2024-05-20 00:00:00-04:00\",\n          \"2024-05-22 00:00:00-04:00\"\n        ],\n        \"semantic_type\": \"\",\n        \"description\": \"\"\n      }\n    },\n    {\n      \"column\": \"Open\",\n      \"properties\": {\n        \"dtype\": \"number\",\n        \"std\": 1.4795051957335985,\n        \"min\": 189.3300018310547,\n        \"max\": 192.27000427246094,\n        \"num_unique_values\": 3,\n        \"samples\": [\n          191.08999633789062,\n          189.3300018310547,\n          192.27000427246094\n        ],\n        \"semantic_type\": \"\",\n        \"description\": \"\"\n      }\n    },\n    {\n      \"column\": \"High\",\n      \"properties\": {\n        \"dtype\": \"number\",\n        \"std\": 0.4956838058078067,\n        \"min\": 191.9199981689453,\n        \"max\": 192.82000732421875,\n        \"num_unique_values\": 3,\n        \"samples\": [\n          192.72999572753906,\n          191.9199981689453,\n          192.82000732421875\n        ],\n        \"semantic_type\": \"\",\n        \"description\": \"\"\n      }\n    },\n    {\n      \"column\": \"Low\",\n      \"properties\": {\n        \"dtype\": \"number\",\n        \"std\": 0.9711016651384937,\n        \"min\": 189.00999450683594,\n        \"max\": 190.9199981689453,\n        \"num_unique_values\": 3,\n        \"samples\": [\n          190.9199981689453,\n          189.00999450683594,\n          190.27000427246094\n        ],\n        \"semantic_type\": \"\",\n        \"description\": \"\"\n      }\n    },\n    {\n      \"column\": \"Close\",\n      \"properties\": {\n        \"dtype\": \"number\",\n        \"std\": 0.7998196475194502,\n        \"min\": 190.89999389648438,\n        \"max\": 192.35000610351562,\n        \"num_unique_values\": 3,\n        \"samples\": [\n          192.35000610351562,\n          191.0399932861328,\n          190.89999389648438\n        ],\n        \"semantic_type\": \"\",\n        \"description\": \"\"\n      }\n    },\n    {\n      \"column\": \"Volume\",\n      \"properties\": {\n        \"dtype\": \"number\",\n        \"std\": 5119214,\n        \"min\": 34648500,\n        \"max\": 44361300,\n        \"num_unique_values\": 3,\n        \"samples\": [\n          42309400,\n          44361300,\n          34648500\n        ],\n        \"semantic_type\": \"\",\n        \"description\": \"\"\n      }\n    },\n    {\n      \"column\": \"Dividends\",\n      \"properties\": {\n        \"dtype\": \"number\",\n        \"std\": 0.0,\n        \"min\": 0.0,\n        \"max\": 0.0,\n        \"num_unique_values\": 1,\n        \"samples\": [\n          0.0\n        ],\n        \"semantic_type\": \"\",\n        \"description\": \"\"\n      }\n    },\n    {\n      \"column\": \"Stock Splits\",\n      \"properties\": {\n        \"dtype\": \"number\",\n        \"std\": 0.0,\n        \"min\": 0.0,\n        \"max\": 0.0,\n        \"num_unique_values\": 1,\n        \"samples\": [\n          0.0\n        ],\n        \"semantic_type\": \"\",\n        \"description\": \"\"\n      }\n    }\n  ]\n}"
            }
          },
          "metadata": {},
          "execution_count": 16
        }
      ]
    },
    {
      "cell_type": "code",
      "source": [
        "query = \"How many stock splits google had in the last 10 years?\""
      ],
      "metadata": {
        "id": "RKJMGR_DUcwC"
      },
      "execution_count": null,
      "outputs": []
    },
    {
      "cell_type": "code",
      "source": [
        "result = graph.invoke({\"input\": query, \"intermediate_steps\": []})\n",
        "output = result['agent_outcome'].return_values[\"output\"]\n",
        "print(output)"
      ],
      "metadata": {
        "colab": {
          "base_uri": "https://localhost:8080/"
        },
        "id": "0_iF-fBiUd9q",
        "outputId": "5fe7f2a7-eaa3-4417-a5c3-92b860aefe4e"
      },
      "execution_count": null,
      "outputs": [
        {
          "output_type": "stream",
          "name": "stdout",
          "text": [
            "Google (GOOGL) had 2 stock splits in the last 10 years. The stock splits occurred on the following dates:\n",
            "1. April 3, 2014 - 1.998 stock split\n",
            "2. July 18, 2022 - 20.000 stock split\n"
          ]
        }
      ]
    },
    {
      "cell_type": "code",
      "source": [
        "# baseline answer\n",
        "tickers.tickers['GOOG'].actions"
      ],
      "metadata": {
        "id": "3MdU-JVrdMdJ",
        "colab": {
          "base_uri": "https://localhost:8080/",
          "height": 175
        },
        "outputId": "f57c8e5b-cbb2-4e8a-f33d-f757d4fd2c6e"
      },
      "execution_count": null,
      "outputs": [
        {
          "output_type": "execute_result",
          "data": {
            "text/plain": [
              "                           Dividends  Stock Splits\n",
              "Date                                              \n",
              "2014-03-27 00:00:00-04:00        0.0      2.002000\n",
              "2015-04-27 00:00:00-04:00        0.0      1.002746\n",
              "2022-07-18 00:00:00-04:00        0.0     20.000000"
            ],
            "text/html": [
              "\n",
              "  <div id=\"df-c1d03ca3-8373-4526-b8cf-37d2c0f5db40\" class=\"colab-df-container\">\n",
              "    <div>\n",
              "<style scoped>\n",
              "    .dataframe tbody tr th:only-of-type {\n",
              "        vertical-align: middle;\n",
              "    }\n",
              "\n",
              "    .dataframe tbody tr th {\n",
              "        vertical-align: top;\n",
              "    }\n",
              "\n",
              "    .dataframe thead th {\n",
              "        text-align: right;\n",
              "    }\n",
              "</style>\n",
              "<table border=\"1\" class=\"dataframe\">\n",
              "  <thead>\n",
              "    <tr style=\"text-align: right;\">\n",
              "      <th></th>\n",
              "      <th>Dividends</th>\n",
              "      <th>Stock Splits</th>\n",
              "    </tr>\n",
              "    <tr>\n",
              "      <th>Date</th>\n",
              "      <th></th>\n",
              "      <th></th>\n",
              "    </tr>\n",
              "  </thead>\n",
              "  <tbody>\n",
              "    <tr>\n",
              "      <th>2014-03-27 00:00:00-04:00</th>\n",
              "      <td>0.0</td>\n",
              "      <td>2.002000</td>\n",
              "    </tr>\n",
              "    <tr>\n",
              "      <th>2015-04-27 00:00:00-04:00</th>\n",
              "      <td>0.0</td>\n",
              "      <td>1.002746</td>\n",
              "    </tr>\n",
              "    <tr>\n",
              "      <th>2022-07-18 00:00:00-04:00</th>\n",
              "      <td>0.0</td>\n",
              "      <td>20.000000</td>\n",
              "    </tr>\n",
              "  </tbody>\n",
              "</table>\n",
              "</div>\n",
              "    <div class=\"colab-df-buttons\">\n",
              "\n",
              "  <div class=\"colab-df-container\">\n",
              "    <button class=\"colab-df-convert\" onclick=\"convertToInteractive('df-c1d03ca3-8373-4526-b8cf-37d2c0f5db40')\"\n",
              "            title=\"Convert this dataframe to an interactive table.\"\n",
              "            style=\"display:none;\">\n",
              "\n",
              "  <svg xmlns=\"http://www.w3.org/2000/svg\" height=\"24px\" viewBox=\"0 -960 960 960\">\n",
              "    <path d=\"M120-120v-720h720v720H120Zm60-500h600v-160H180v160Zm220 220h160v-160H400v160Zm0 220h160v-160H400v160ZM180-400h160v-160H180v160Zm440 0h160v-160H620v160ZM180-180h160v-160H180v160Zm440 0h160v-160H620v160Z\"/>\n",
              "  </svg>\n",
              "    </button>\n",
              "\n",
              "  <style>\n",
              "    .colab-df-container {\n",
              "      display:flex;\n",
              "      gap: 12px;\n",
              "    }\n",
              "\n",
              "    .colab-df-convert {\n",
              "      background-color: #E8F0FE;\n",
              "      border: none;\n",
              "      border-radius: 50%;\n",
              "      cursor: pointer;\n",
              "      display: none;\n",
              "      fill: #1967D2;\n",
              "      height: 32px;\n",
              "      padding: 0 0 0 0;\n",
              "      width: 32px;\n",
              "    }\n",
              "\n",
              "    .colab-df-convert:hover {\n",
              "      background-color: #E2EBFA;\n",
              "      box-shadow: 0px 1px 2px rgba(60, 64, 67, 0.3), 0px 1px 3px 1px rgba(60, 64, 67, 0.15);\n",
              "      fill: #174EA6;\n",
              "    }\n",
              "\n",
              "    .colab-df-buttons div {\n",
              "      margin-bottom: 4px;\n",
              "    }\n",
              "\n",
              "    [theme=dark] .colab-df-convert {\n",
              "      background-color: #3B4455;\n",
              "      fill: #D2E3FC;\n",
              "    }\n",
              "\n",
              "    [theme=dark] .colab-df-convert:hover {\n",
              "      background-color: #434B5C;\n",
              "      box-shadow: 0px 1px 3px 1px rgba(0, 0, 0, 0.15);\n",
              "      filter: drop-shadow(0px 1px 2px rgba(0, 0, 0, 0.3));\n",
              "      fill: #FFFFFF;\n",
              "    }\n",
              "  </style>\n",
              "\n",
              "    <script>\n",
              "      const buttonEl =\n",
              "        document.querySelector('#df-c1d03ca3-8373-4526-b8cf-37d2c0f5db40 button.colab-df-convert');\n",
              "      buttonEl.style.display =\n",
              "        google.colab.kernel.accessAllowed ? 'block' : 'none';\n",
              "\n",
              "      async function convertToInteractive(key) {\n",
              "        const element = document.querySelector('#df-c1d03ca3-8373-4526-b8cf-37d2c0f5db40');\n",
              "        const dataTable =\n",
              "          await google.colab.kernel.invokeFunction('convertToInteractive',\n",
              "                                                    [key], {});\n",
              "        if (!dataTable) return;\n",
              "\n",
              "        const docLinkHtml = 'Like what you see? Visit the ' +\n",
              "          '<a target=\"_blank\" href=https://colab.research.google.com/notebooks/data_table.ipynb>data table notebook</a>'\n",
              "          + ' to learn more about interactive tables.';\n",
              "        element.innerHTML = '';\n",
              "        dataTable['output_type'] = 'display_data';\n",
              "        await google.colab.output.renderOutput(dataTable, element);\n",
              "        const docLink = document.createElement('div');\n",
              "        docLink.innerHTML = docLinkHtml;\n",
              "        element.appendChild(docLink);\n",
              "      }\n",
              "    </script>\n",
              "  </div>\n",
              "\n",
              "\n",
              "<div id=\"df-c9b632c0-0a03-49ce-b4a9-097a7bce9836\">\n",
              "  <button class=\"colab-df-quickchart\" onclick=\"quickchart('df-c9b632c0-0a03-49ce-b4a9-097a7bce9836')\"\n",
              "            title=\"Suggest charts\"\n",
              "            style=\"display:none;\">\n",
              "\n",
              "<svg xmlns=\"http://www.w3.org/2000/svg\" height=\"24px\"viewBox=\"0 0 24 24\"\n",
              "     width=\"24px\">\n",
              "    <g>\n",
              "        <path d=\"M19 3H5c-1.1 0-2 .9-2 2v14c0 1.1.9 2 2 2h14c1.1 0 2-.9 2-2V5c0-1.1-.9-2-2-2zM9 17H7v-7h2v7zm4 0h-2V7h2v10zm4 0h-2v-4h2v4z\"/>\n",
              "    </g>\n",
              "</svg>\n",
              "  </button>\n",
              "\n",
              "<style>\n",
              "  .colab-df-quickchart {\n",
              "      --bg-color: #E8F0FE;\n",
              "      --fill-color: #1967D2;\n",
              "      --hover-bg-color: #E2EBFA;\n",
              "      --hover-fill-color: #174EA6;\n",
              "      --disabled-fill-color: #AAA;\n",
              "      --disabled-bg-color: #DDD;\n",
              "  }\n",
              "\n",
              "  [theme=dark] .colab-df-quickchart {\n",
              "      --bg-color: #3B4455;\n",
              "      --fill-color: #D2E3FC;\n",
              "      --hover-bg-color: #434B5C;\n",
              "      --hover-fill-color: #FFFFFF;\n",
              "      --disabled-bg-color: #3B4455;\n",
              "      --disabled-fill-color: #666;\n",
              "  }\n",
              "\n",
              "  .colab-df-quickchart {\n",
              "    background-color: var(--bg-color);\n",
              "    border: none;\n",
              "    border-radius: 50%;\n",
              "    cursor: pointer;\n",
              "    display: none;\n",
              "    fill: var(--fill-color);\n",
              "    height: 32px;\n",
              "    padding: 0;\n",
              "    width: 32px;\n",
              "  }\n",
              "\n",
              "  .colab-df-quickchart:hover {\n",
              "    background-color: var(--hover-bg-color);\n",
              "    box-shadow: 0 1px 2px rgba(60, 64, 67, 0.3), 0 1px 3px 1px rgba(60, 64, 67, 0.15);\n",
              "    fill: var(--button-hover-fill-color);\n",
              "  }\n",
              "\n",
              "  .colab-df-quickchart-complete:disabled,\n",
              "  .colab-df-quickchart-complete:disabled:hover {\n",
              "    background-color: var(--disabled-bg-color);\n",
              "    fill: var(--disabled-fill-color);\n",
              "    box-shadow: none;\n",
              "  }\n",
              "\n",
              "  .colab-df-spinner {\n",
              "    border: 2px solid var(--fill-color);\n",
              "    border-color: transparent;\n",
              "    border-bottom-color: var(--fill-color);\n",
              "    animation:\n",
              "      spin 1s steps(1) infinite;\n",
              "  }\n",
              "\n",
              "  @keyframes spin {\n",
              "    0% {\n",
              "      border-color: transparent;\n",
              "      border-bottom-color: var(--fill-color);\n",
              "      border-left-color: var(--fill-color);\n",
              "    }\n",
              "    20% {\n",
              "      border-color: transparent;\n",
              "      border-left-color: var(--fill-color);\n",
              "      border-top-color: var(--fill-color);\n",
              "    }\n",
              "    30% {\n",
              "      border-color: transparent;\n",
              "      border-left-color: var(--fill-color);\n",
              "      border-top-color: var(--fill-color);\n",
              "      border-right-color: var(--fill-color);\n",
              "    }\n",
              "    40% {\n",
              "      border-color: transparent;\n",
              "      border-right-color: var(--fill-color);\n",
              "      border-top-color: var(--fill-color);\n",
              "    }\n",
              "    60% {\n",
              "      border-color: transparent;\n",
              "      border-right-color: var(--fill-color);\n",
              "    }\n",
              "    80% {\n",
              "      border-color: transparent;\n",
              "      border-right-color: var(--fill-color);\n",
              "      border-bottom-color: var(--fill-color);\n",
              "    }\n",
              "    90% {\n",
              "      border-color: transparent;\n",
              "      border-bottom-color: var(--fill-color);\n",
              "    }\n",
              "  }\n",
              "</style>\n",
              "\n",
              "  <script>\n",
              "    async function quickchart(key) {\n",
              "      const quickchartButtonEl =\n",
              "        document.querySelector('#' + key + ' button');\n",
              "      quickchartButtonEl.disabled = true;  // To prevent multiple clicks.\n",
              "      quickchartButtonEl.classList.add('colab-df-spinner');\n",
              "      try {\n",
              "        const charts = await google.colab.kernel.invokeFunction(\n",
              "            'suggestCharts', [key], {});\n",
              "      } catch (error) {\n",
              "        console.error('Error during call to suggestCharts:', error);\n",
              "      }\n",
              "      quickchartButtonEl.classList.remove('colab-df-spinner');\n",
              "      quickchartButtonEl.classList.add('colab-df-quickchart-complete');\n",
              "    }\n",
              "    (() => {\n",
              "      let quickchartButtonEl =\n",
              "        document.querySelector('#df-c9b632c0-0a03-49ce-b4a9-097a7bce9836 button');\n",
              "      quickchartButtonEl.style.display =\n",
              "        google.colab.kernel.accessAllowed ? 'block' : 'none';\n",
              "    })();\n",
              "  </script>\n",
              "</div>\n",
              "\n",
              "    </div>\n",
              "  </div>\n"
            ],
            "application/vnd.google.colaboratory.intrinsic+json": {
              "type": "dataframe",
              "summary": "{\n  \"name\": \"tickers\",\n  \"rows\": 3,\n  \"fields\": [\n    {\n      \"column\": \"Date\",\n      \"properties\": {\n        \"dtype\": \"date\",\n        \"min\": \"2014-03-27 00:00:00-04:00\",\n        \"max\": \"2022-07-18 00:00:00-04:00\",\n        \"num_unique_values\": 3,\n        \"samples\": [\n          \"2014-03-27 00:00:00-04:00\",\n          \"2015-04-27 00:00:00-04:00\",\n          \"2022-07-18 00:00:00-04:00\"\n        ],\n        \"semantic_type\": \"\",\n        \"description\": \"\"\n      }\n    },\n    {\n      \"column\": \"Dividends\",\n      \"properties\": {\n        \"dtype\": \"number\",\n        \"std\": 0.0,\n        \"min\": 0.0,\n        \"max\": 0.0,\n        \"num_unique_values\": 1,\n        \"samples\": [\n          0.0\n        ],\n        \"semantic_type\": \"\",\n        \"description\": \"\"\n      }\n    },\n    {\n      \"column\": \"Stock Splits\",\n      \"properties\": {\n        \"dtype\": \"number\",\n        \"std\": 10.6912907865354,\n        \"min\": 1.0027455,\n        \"max\": 20.0,\n        \"num_unique_values\": 3,\n        \"samples\": [\n          2.002\n        ],\n        \"semantic_type\": \"\",\n        \"description\": \"\"\n      }\n    }\n  ]\n}"
            }
          },
          "metadata": {},
          "execution_count": 19
        }
      ]
    }
  ]
}